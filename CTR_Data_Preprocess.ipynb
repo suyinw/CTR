{
 "cells": [
  {
   "cell_type": "code",
   "execution_count": 1,
   "metadata": {
    "collapsed": true
   },
   "outputs": [],
   "source": [
    "import numpy as np\n",
    "import pandas as pd\n",
    "import matplotlib.pyplot as plt\n",
    "import matplotlib\n",
    "from sklearn.preprocessing import OneHotEncoder\n",
    "from sklearn.model_selection import train_test_split\n",
    "from sklearn.ensemble import RandomForestClassifier\n",
    "from sklearn import metrics\n",
    "import scipy.sparse\n",
    "\n",
    "matplotlib.style.use('ggplot')"
   ]
  },
  {
   "cell_type": "code",
   "execution_count": 2,
   "metadata": {
    "collapsed": true
   },
   "outputs": [],
   "source": [
    "# Loading Data\n",
    "df  = pd.read_csv(\"train.csv\")\n",
    "#(40428967, 24)\n",
    "dft  = pd.read_csv(\"test.csv\")\n",
    "#(4577464, 23)"
   ]
  },
  {
   "cell_type": "markdown",
   "metadata": {},
   "source": [
    "STEP ONE: DATA EXPLORATION"
   ]
  },
  {
   "cell_type": "code",
   "execution_count": 3,
   "metadata": {
    "collapsed": true
   },
   "outputs": [],
   "source": [
    "def basicDes(df):\n",
    "    for col in df.columns:\n",
    "        print('Unique values for {}:\\n{}\\nwith {} values\\n'.format(col,df[col].unique(),len(df[col].unique())))"
   ]
  },
  {
   "cell_type": "code",
   "execution_count": 8,
   "metadata": {
    "collapsed": false,
    "scrolled": false
   },
   "outputs": [
    {
     "name": "stdout",
     "output_type": "stream",
     "text": [
      "Unique values for id:\n",
      "[  1.00000942e+18   1.00001693e+19   1.00003719e+19 ...,   9.99958512e+18\n",
      "   9.99963634e+18   9.99974664e+18]\n",
      "with 40428967 values\n",
      "\n",
      "Unique values for click:\n",
      "[0 1]\n",
      "with 2 values\n",
      "\n",
      "Unique values for hour:\n",
      "[14102100 14102101 14102102 14102103 14102104 14102105 14102106 14102107\n",
      " 14102108 14102109 14102110 14102111 14102112 14102113 14102114 14102115\n",
      " 14102116 14102117 14102118 14102119 14102120 14102121 14102122 14102123\n",
      " 14102200 14102201 14102202 14102203 14102204 14102205 14102206 14102207\n",
      " 14102208 14102209 14102210 14102211 14102212 14102213 14102214 14102215\n",
      " 14102216 14102217 14102218 14102219 14102220 14102221 14102222 14102223\n",
      " 14102300 14102301 14102302 14102303 14102304 14102305 14102306 14102307\n",
      " 14102308 14102309 14102310 14102311 14102312 14102313 14102314 14102315\n",
      " 14102316 14102317 14102318 14102319 14102320 14102321 14102322 14102323\n",
      " 14102400 14102401 14102402 14102403 14102404 14102405 14102406 14102407\n",
      " 14102408 14102409 14102410 14102411 14102412 14102413 14102414 14102415\n",
      " 14102416 14102417 14102418 14102419 14102420 14102421 14102422 14102423\n",
      " 14102500 14102501 14102502 14102503 14102504 14102505 14102506 14102507\n",
      " 14102508 14102509 14102510 14102511 14102512 14102513 14102514 14102515\n",
      " 14102516 14102517 14102518 14102519 14102520 14102521 14102522 14102523\n",
      " 14102600 14102601 14102602 14102603 14102604 14102605 14102606 14102607\n",
      " 14102608 14102609 14102610 14102611 14102612 14102613 14102614 14102615\n",
      " 14102616 14102617 14102618 14102619 14102620 14102621 14102622 14102623\n",
      " 14102700 14102701 14102702 14102703 14102704 14102705 14102706 14102707\n",
      " 14102708 14102709 14102710 14102711 14102712 14102713 14102714 14102715\n",
      " 14102716 14102717 14102718 14102719 14102720 14102721 14102722 14102723\n",
      " 14102800 14102801 14102802 14102803 14102804 14102805 14102806 14102807\n",
      " 14102808 14102809 14102810 14102811 14102812 14102813 14102814 14102815\n",
      " 14102816 14102817 14102818 14102819 14102820 14102821 14102822 14102823\n",
      " 14102900 14102901 14102902 14102903 14102904 14102905 14102906 14102907\n",
      " 14102908 14102909 14102910 14102911 14102912 14102913 14102914 14102915\n",
      " 14102916 14102917 14102918 14102919 14102920 14102921 14102922 14102923\n",
      " 14103000 14103001 14103002 14103003 14103004 14103005 14103006 14103007\n",
      " 14103008 14103009 14103010 14103011 14103012 14103013 14103014 14103015\n",
      " 14103016 14103017 14103018 14103019 14103020 14103021 14103022 14103023]\n",
      "with 240 values\n",
      "\n",
      "Unique values for C1:\n",
      "[1005 1002 1010 1001 1007 1008 1012]\n",
      "with 7 values\n",
      "\n",
      "Unique values for banner_pos:\n",
      "[0 1 4 5 2 7 3]\n",
      "with 7 values\n",
      "\n",
      "Unique values for site_id:\n",
      "['1fbe01fe' 'fe8cc448' 'd6137915' ..., 'aaca6ef0' 'efca7c44' '82b4318e']\n",
      "with 4737 values\n",
      "\n",
      "Unique values for site_domain:\n",
      "['f3845767' '9166c161' 'bb1ef334' ..., 'e05edb43' 'd761e9fb' '6e5c932a']\n",
      "with 7745 values\n",
      "\n",
      "Unique values for site_category:\n",
      "['28905ebd' '0569f928' 'f028772b' '50e219e0' '3e814130' '76b2941d'\n",
      " 'f66779e6' '335d28a8' '72722551' '75fa27f6' '110ab22d' 'c0dd3be3'\n",
      " 'bcf865d9' 'a818d37a' '42a36e14' 'e787de0e' '5378d028' '9ccfa2ea'\n",
      " '70fb0e29' 'dedf689d' '8fd0aea4' '74073276' 'c706e647' '6432c423'\n",
      " 'a72a0145' 'da34532e']\n",
      "with 26 values\n",
      "\n",
      "Unique values for app_id:\n",
      "['ecad2386' '98fed791' '66a5f0f3' ..., '85e54472' '03e09b02' 'f6c2f1c3']\n",
      "with 8552 values\n",
      "\n",
      "Unique values for app_domain:\n",
      "['7801e8d9' 'd9b5648e' '2347f47a' '45a51db4' '82e27996' '5c5a694b'\n",
      " '0654b444' 'aefc06bd' '33da2e74' 'ad63ec9b' '5b9c592b' 'ae637522'\n",
      " '885c7f3f' 'b9528b13' '813f3323' 'c6824def' 'b5f3b24a' '5c620f04'\n",
      " '43cf4f06' 'f2f777fb' '18eb4e75' 'e787a6bc' '15ec7f39' 'db829551'\n",
      " 'f3ad7798' '6f7ca2ba' 'df32afa9' 'afdf1f54' '5ac0b939' 'b8d325c3'\n",
      " '3feeed1e' 'e5d5313f' '1ed56ded' '56eabb45' '713c0c91' '828da833'\n",
      " 'b2816726' '2b627705' '1ea19ec4' '88293ffa' 'c41aa5ee' '2d332391'\n",
      " 'fc41b20c' '5b3f66ff' '9acfe436' '90706f5d' '27ee373d' 'b0920d40'\n",
      " '8bb7dba9' '51174fb1' '2022d54e' 'f5a7c834' 'ef1fc174' 'd6feb1a4'\n",
      " '8d87821d' '99b4c806' 'd9f4700d' '47464e95' '6a0a3a9d' '47db8711'\n",
      " '48aec236' '15c23f8e' 'b408d42a' '73fc6786' '0b7d3d7d' '86aa8fec'\n",
      " 'fd5f0ee2' 'a5f9dc5b' '64ae80a5' 'a271c340' '4fafd4c4' 'c91cbbb4'\n",
      " 'af237497' '0e8616ad' 'b6c7e8e1' 'b1ab9955' '0eb1a401' 'b12ff13e'\n",
      " '2c1c31c6' '700adbf0' 'dcb74110' '7a9371fa' '9ecca2dd' '999f1fac'\n",
      " '0d79ee56' '86adec6c' '7bbb38df' '17810bfa' '3c992420' 'ba275770'\n",
      " 'd9e67b62' '4e007635' '44324ff4' '5daf29b2' '6bfb9168' 'fd68cbd8'\n",
      " '6a90b0cb' '6cf43c3b' '1438d51f' '24f896e0' '519a450d' 'b6db2208'\n",
      " 'b398ab59' '6c2d0c26' '800100e0' '1ddc989f' '1cb641ec' '52d64e90'\n",
      " '449e219f' '5bcedd7d' '9ec164d3' '323f3fe5' 'cb36afb8' '863f4950'\n",
      " '7b833eb9' '1d5e09f4' '3ca588d4' '55240cf0' '63f57be0' '756ffb85'\n",
      " '15fa2703' '298309ba' '9cc1123d' 'af201489' '002e4064' 'b51aefa8'\n",
      " 'd3e7c965' '366cee9d' '9e96e8cf' '9830a8fb' '65b2af4c' 'fd0f197b'\n",
      " '23e2c80e' '2619a4f7' 'ad65a8a2' 'bd8c1fdc' 'da1be86e' 'b7af3e0a'\n",
      " 'd3c75c8f' 'e25eea83' 'f75ccedd' '97efe5c6' 'b299335a' '337b74ad'\n",
      " '063914ab' '4ed652f4' 'f2140094' 'c72257c6' 'eaaf6d12' '20ab8b07'\n",
      " '1b74784d' 'd18c63a1' '916026d9' 'e51135b7' '9299777a' '1cbecd39'\n",
      " '90322ef6' 'e7928b55' 'fceed35e' 'edc7d7a7' '3df323d8' '7cf770da'\n",
      " '26894d3c' '3191f81f' 'b88e8096' 'b50610ee' '78051bc0' '5211766b'\n",
      " 'c36365e3' '4d86b5ce' 'b97def0d' '30f30cf0' '92895b94' '5ba508e3'\n",
      " 'f91396ac' '7a94af76' 'b9215c20' '15f7400f' '9d65dcb9' '12ea721c'\n",
      " '3741ede9' 'a67cb0c5' '1638b0a9' '6aafed40' 'aee494fb' 'fd53c2dc'\n",
      " '64845f22' '5ad474ea' '9c566260' '05975007' '5c8af8e9' '29cd071c'\n",
      " '772df91c' 'f84a2400' 'f7f22564' 'a5204413' '67c844d8' 'cda96d46'\n",
      " '57cf0548' 'e5d008b4' 'dec87c2e' 'bf2623ab' '17578ec3' 'bcef5708'\n",
      " '6ec102c5' '12aaf71f' '201ad671' '36fb59d6' '734d52b9' 'b4da5985'\n",
      " '7d58e760' 'a09b1cc0' '3e9b6bc2' '7b3b7dad' '1c666936' 'ce2ca36f'\n",
      " 'e81561d1' 'ed7f6170' 'cd732fd5' '448ca2e3' '94007c57' 'e193e1f5'\n",
      " '4e0bb613' '455b7630' '59e465f4' 'f1083d2a' '09abdb18' 'edd13025'\n",
      " '256a5990' 'd98095bb' 'f7eba725' '9a9085ad' '8fbe42cb' '788e5855'\n",
      " 'c0940197' 'fce7d5d4' '5da9e6db' '6b062297' '3a37fc9a' 'b8f3e522'\n",
      " 'ae36b8ab' 'e9d5949e' '41c9b931' '5af432e2' 'ab6b3530' 'ea4fcf79'\n",
      " '435769ed' 'f09de4dc' '2d4a0207' '438468ad' '6f406d5b' '863c4528'\n",
      " '96c7bad2' '1c895c8c' 'dbf5ab77' 'a5ab1a9f' '030e4250' '1833416a'\n",
      " 'dcdba109' 'a841febe' '316edd1b' 'c5c485e8' '5576cc84' 'e24414c4'\n",
      " 'c15f229b' '8ab0d4f4' '26378630' '7bb90734' 'd15c637f' 'f48b6635'\n",
      " '90d75517' 'c87b28e6' 'b28f54ad' 'ca7441a4' '424d97b0' '36358a3d'\n",
      " '1c37dcad' 'cb96370c' '5048f612' '3419dd80' 'c0e0e9ca' '6437e20c'\n",
      " '88f50364' 'd25f310a' '19b11785' 'c91a8f07' '7c88bca5' 'adacd5cc'\n",
      " 'f82a3e61' '214e1541' '11c6546c' 'b9f04b56' '001b87ae' 'c343527e'\n",
      " '1dc9b529' 'a78efb9c' '6dea6e92' 'e92089e6' 'bd6843b4' '621d726b'\n",
      " '6598724a' '2e06c061' '8441d3ab' 'bb6bcbae' '1615cf32' 'aa396318'\n",
      " 'a981375c' '672111e6' 'ce031f02' 'd3934b52' '1020a5f7' '11f791ec'\n",
      " 'a96b2ee7' 'd1600859' '185fc975' 'd95432fe' '89896125' '06a7ad59'\n",
      " '5aa9fd44' '5151808a' '65a98a05' '084f6382' '1102383a' 'ee50c840'\n",
      " '25628028' '7f125d40' 'd55bd9a0' '69528475' 'c5c60bfd' '5ef0e2e9'\n",
      " 'a7c33f94' 'e25dadf0' 'e4a3128e' '7dab23c8' '94f986fe' '659251d7'\n",
      " '39e34dc5' '938e40d3' '6793d46b' 'bb27eb10' '28a85b13' '3f64fb96'\n",
      " 'e9616877' '2c11183d' '97db6a0b' '30e8a43f' 'f2c88c63' '51d3e97f'\n",
      " 'bae91dfe' '203a4d02' 'e25ea824' '9e4f24c2' '7a94032f' '9ba5fbe6'\n",
      " '95f77e10' 'be452468' 'ead20d3d' 'bb8f7b3f' '4516163d' '2a28c23d'\n",
      " '18e5bfbf' '9492ae41' 'fb4fee83' '45519326' '8f97c141' '8e961dc9'\n",
      " '9c06a810' 'da45f10e' '179fcd69' '046a728e' 'cea55998' 'f34077eb'\n",
      " '1e3b33ad' 'bb2a164d' '9fc46d8f' '28269d80' '605eb685' '971c3ba7'\n",
      " 'ff191ca9' '6879d53f' '721ddffd' '9fd3bf89' '32f9558b' '116fd53f'\n",
      " '44367c4a' '99cce2d5' 'd8073046' '97d745c9' '6de3d639' 'd89240fd'\n",
      " 'a7accd5b' 'fc857957' '13b4d1e1' '117698cb' '31d17fc8' 'd53e0703'\n",
      " '547624e0' 'f435cae0' 'a8b0bf20' '3fa331b0' '1c73b8ac' 'cab5b73d'\n",
      " 'cf9adca5' 'ee7d2e2b' 'e4ab3355' 'adf95bcd' '4966e53f' '949683f7'\n",
      " 'bb85b34d' '81b19a31' '13ed06ee' 'b3c288b7' 'bdfa93d5' 'a21f883a'\n",
      " 'bdde4c9b' 'c9373861' '4890a39e' '927b53cd' '535a6777' '7c17d732'\n",
      " 'c658acba' 'd80e8488' '03da86e1' 'd06cce07' 'ab648479' 'a21d5b1a'\n",
      " 'ce2aa683' '2bcc7b25' 'c9f545d5' '224d4dec' 'dee05fca' 'ebc4233e'\n",
      " '52c29fe1' '2c94e6e5' '52a052f3' '1dc4224a' '6dc31ecb' '42ed489e'\n",
      " '9d77cdb6' '5ced45bd' '0b793b58' '53747a78' '5ce5b882' '9ec8f0d8'\n",
      " '139260e0' '655e300a' '589f98f6' '7eec2ab0' '9eaabdd7' 'fdbdd2a9'\n",
      " '9404f9fe' 'df50ae88' 'e0881fef' 'e29fc2b7' '1ac0a4ae' '38462a94'\n",
      " '531c5e42' 'd902c9ef' '2eb85c80' '3cf50bc0' '931b9f64' '7a492380'\n",
      " '57e92fff' 'ced163d2' '1d1d4953' 'ff6630e0' '93f9275a' '58214ae1'\n",
      " '7ecafa37' '1f606580' 'ed0f64d8' '505949a0' 'd767dc6b' 'af524670'\n",
      " '5ddae6d6' '8af3e517' '110d4421' 'df741103' '7c4d2cca' 'd22b6d64'\n",
      " '8a1d880a' '92036a11' '3114c619' '5406e4db' '5b46af43' '5828b59d'\n",
      " '813fb413' '00314725' 'a6ec4ed6' '4e33d472' 'dd9d354c' '76a8fa7c'\n",
      " '8e8ca1d0' '1eb35dd1' '090fcb2e' 'a9aab246' '61b00f7b' '7661e9ea'\n",
      " '1acab003' '48f95f3e' 'e0be164b' 'a9caeae7' '741bb270' 'e559a22e'\n",
      " '7a0640b2' 'd4c7399f' '5d4da5b0' 'fe5e664e' 'b2e11faa' '38c660a5'\n",
      " '8068d98f' '2ef29720' '2ee4f367' 'd083df39' '347bf088' 'cf26d810'\n",
      " 'a8985b53' 'a696f7de' '1afd1880' '3e5459f6' 'e1f23257' '8e1c9078'\n",
      " 'e2fa941d' '55cb48a1' 'fe369646' '790dd3cc' '55888256' '0c3e87f7'\n",
      " '5ab4623d' '09ae65d1' '9c875c2e' 'b43ef300' '323165e8' '5d1e6171'\n",
      " '391ef1c3' '3c08d416' '946b7dcf' 'e7803a28' '0cfa8592' '48e6f39d'\n",
      " 'b7bbc1c1' 'e6cf1c39' '83ccf7b5' 'fea0d84a' '8e1f4a6e' 'b4df0cc5'\n",
      " 'cf49a27a' '4f983e50' 'b72bf947' '5e6486c6' '3d459804' '8bba499a'\n",
      " '4a4f8143' '1c57718f' '911c0d17' '3630f389' '5397e464' '7366e108'\n",
      " '70146488']\n",
      "with 559 values\n",
      "\n",
      "Unique values for app_category:\n",
      "['07d7df22' '0f2161f8' 'cef3e649' '8ded1f7a' 'f95efa07' '75d80bbe'\n",
      " '4ce2e9fc' 'd1327cf5' '09481d60' 'fc6fa53d' 'dc97ec06' 'a3c42688'\n",
      " '0f9a328c' '879c24eb' 'a86a3e89' '7113d72a' 'a7fd01ec' '4681bb9d'\n",
      " '8df2e842' '2281a340' '18b1e0be' '0bfbc358' '79f0b860' '4b7ade46'\n",
      " '86c1a5a3' '2fc4f2aa' '5326cf99' 'ef03ae90' '71af18ce' '52de74cf'\n",
      " 'bd41f328' 'f395a87f' 'cba0e20d' '6fea3693' 'bf8ac856' '0d82db25']\n",
      "with 36 values\n",
      "\n",
      "Unique values for device_id:\n",
      "['a99f214a' 'c357dbff' 'fb23c543' ..., '53cd6af3' 'd1dcc829' '2e7d4e84']\n",
      "with 2686408 values\n",
      "\n",
      "Unique values for device_ip:\n",
      "['ddd2926e' '96809ac8' 'b3cf8def' ..., 'd9e2a457' '7c9e21ff' 'e1b5bcff']\n",
      "with 6729486 values\n",
      "\n",
      "Unique values for device_model:\n",
      "['44956a24' '711ee120' '8a4875bd' ..., '4c34fd04' '706098d6' '50d70abf']\n",
      "with 8251 values\n",
      "\n",
      "Unique values for device_type:\n",
      "[1 0 4 5 2]\n",
      "with 5 values\n",
      "\n",
      "Unique values for device_conn_type:\n",
      "[2 0 3 5]\n",
      "with 4 values\n",
      "\n",
      "Unique values for C14:\n",
      "[15706 15704 18993 ..., 23612 24050 23679]\n",
      "with 2626 values\n",
      "\n",
      "Unique values for C15:\n",
      "[ 320  300  216  728  120 1024  480  768]\n",
      "with 8 values\n",
      "\n",
      "Unique values for C16:\n",
      "[  50  250   36  480   90   20  768  320 1024]\n",
      "with 9 values\n",
      "\n",
      "Unique values for C17:\n",
      "[1722 2161 1899 2333 2374 2496 1974 2227 2371 2043  571 2434 2493 2480 1882\n",
      " 2158 2271 2446 1800 1934 1863 1887 1994  423 2495 2153 2253 2264 1996  898\n",
      " 1872 2036 2162  576 2312 1993 2481  572 1973 1921 2331 2449 1740 1926 1955\n",
      " 2307 1092  901 1637 1784 1895  112 2351  122 2323 2424 2497 2083 2270 2295\n",
      " 1248 1447 2060  196 2306 1780 2372  547  906 2283 2260 1272 2263 1752 2292\n",
      " 1991 2339 2039  394 2285 2325 2427 1401 2316 1835 2154  937 2286  613  153\n",
      " 2390 2284 2443 2485  544 2467 1528 1769 2303 2278  549 2465  768 2394 2478\n",
      "  686 2471 2304 1698 2279 1932  178 2346 1685 2483 2476 1255 2225 2438 2425\n",
      " 1884  827 2459 2397 1507 2250 2482  550 2201 2487 2229 2348 2492  761 2418\n",
      " 2242 2421  479 1873 2420 2281 2206 1515 2101 1253 2218 1149 2187 1008 2282\n",
      " 1965 1960 1939  832 1972 2428 1107 1174 2489 2494 1141 2084 2412  873 2181\n",
      " 2479 2500 2441 1903 2436 2491 2502  644 2505 2338 2503 2504 2498 2508 2509\n",
      " 2501 2447 2510 2451 2513 2512 2455 1741 2439 2375 1042 1694 2519 2520 2016\n",
      " 2506 2507 2525 2523 2522 2524 2526 2518 1702 2527 2440 2528 1526 2521 2530\n",
      " 2462 1076 2009 2536 2511 1823 2531 2544 2547 2545 2532 2535 2546 2534 2533\n",
      " 2537 2369 2548 2550 2551 2542 2554 2552 2556 2541 2555 2553 2199 2299 2543\n",
      " 2539 2557 2435 2558 2563 2515 2448 2566 2568 2569 2570 2561 2560 2571  872\n",
      " 2565 2572 2574 2573 2340 2454 2577 2580 2578 2583 2575 2576 2587 2567 2453\n",
      " 2450 2588 2589  863 1946 2590 2579 2581 2582 2594 2585 2593 2602 2601 1161\n",
      " 2429 2604 1160 2605 2606 2603 2600 2599 2597 2598 2609 2610 1516 2104 2592\n",
      " 2612 2613 1821 2615 2591 2616 2608 2614 2611 2624 2625 2619 2631 2630 2633\n",
      " 2634 2635 2636 2627 2647 2640 2637 2638 2645 2641 2646 2643 2639 2644 2648\n",
      " 2642 2617 2649 2620 2650 2226 2657 2656 2654 2651 2661 2660 2658 2655 2659\n",
      " 2663 2662 2665 2671 2668 2669 2673 2667 2672 2676 2683 2682 2679 2681 2688\n",
      " 2685 2684 2675 2680 2670 2677 2686 2687 2674 2678 1809 2607 2699 2664 2698\n",
      " 2702 2695 2703 2666 2709 2716 2713 2708 2707 2717 2691 2710 2714 2705 2706\n",
      " 2711 2715 2712 2718 2291 2724 2721 2720 2689 2722 2727 2653 2728 2289 2729\n",
      " 2725 1426 2726 2730 2736 2735 2738 2745 2700 2737 2741 2742 2652 2740 2743\n",
      " 2746 2747 2744 2748 2150 2749 2719 2753 2755 2754 2756 2752 2757 2758 2704]\n",
      "with 435 values\n",
      "\n",
      "Unique values for C18:\n",
      "[0 3 2 1]\n",
      "with 4 values\n",
      "\n",
      "Unique values for C19:\n",
      "[  35  431   39  167  687  551  163  297  291  171  427  303   41   47 1063\n",
      "  943 1835 1315  161  175  681 1319   43  169  683 1711  813 1451  559  423\n",
      "  801  673 1327   33  679 1071  425  547   45  299  295   34  553 1447  811\n",
      "  555  675 1059  809  937  417  545  419 1959  677 1065  935  815 1195 1583\n",
      " 1839  939   38  290 1831  289  803 1575]\n",
      "with 68 values\n",
      "\n",
      "Unique values for C20:\n",
      "[    -1 100084 100077 100191 100019 100148 100088 100083 100217 100111\n",
      " 100193 100034 100075 100228 100131 100188 100202 100021 100200 100050\n",
      " 100063 100000 100081 100057 100003 100130 100076 100079 100233 100128\n",
      " 100106 100060 100002 100074 100020 100156 100046 100005 100105 100013\n",
      " 100028 100215 100119 100173 100210 100221 100161 100189 100048 100151\n",
      " 100190 100049 100062 100194 100241 100248 100224 100026 100103 100205\n",
      " 100160 100212 100041 100070 100138 100185 100225 100065 100037 100029\n",
      " 100199 100101 100094 100162 100171 100192 100095 100052 100087 100086\n",
      " 100126 100097 100072 100117 100170 100012 100107 100166 100183 100025\n",
      " 100163 100206 100155 100176 100068 100039 100168 100055 100112 100096\n",
      " 100022 100054 100150 100122 100149 100001 100177 100141 100213 100043\n",
      " 100010 100139 100137 100053 100143 100056 100165 100099 100061 100172\n",
      " 100040 100123 100024 100051 100133 100091 100071 100124 100195 100004\n",
      " 100090 100152 100058 100016 100229 100093 100064 100108 100073 100144\n",
      " 100031 100032 100033 100121 100153 100182 100181 100186 100169 100246\n",
      " 100082 100109 100113 100179 100078 100135 100244 100178 100114 100059\n",
      " 100132 100157 100175 100098 100100 100209 100134 100027 100187 100198\n",
      " 100006 100008]\n",
      "with 172 values\n",
      "\n",
      "Unique values for C21:\n",
      "[ 79 157 117  23  33  48  46  32  61  13 156  16  52  71  91 100  95 101\n",
      "  15  42 111  82  70  94  20  68  93 116  85  43  51 195  69  17 112  90\n",
      " 194 221 110 219  35 102 163 178 159 108 182 171 177 204 212 126 253 251\n",
      "   1 229 246 255  76 104]\n",
      "with 60 values\n",
      "\n"
     ]
    }
   ],
   "source": [
    "# describe the training dataset\n",
    "basicDes(df)"
   ]
  },
  {
   "cell_type": "markdown",
   "metadata": {},
   "source": [
    "Note that all of the features of categorical, and the number of categories of different features vary a lot \n",
    "from 2 to as large as 6729486, indicating that we might need some feature engineering to re-categorize some of the features.\n",
    "Also, one-hot encoding might be a proper representation we want to use since features are categorical."
   ]
  },
  {
   "cell_type": "code",
   "execution_count": 9,
   "metadata": {
    "collapsed": false
   },
   "outputs": [
    {
     "name": "stdout",
     "output_type": "stream",
     "text": [
      "Unique values for id:\n",
      "[  1.00001741e+19   1.00001825e+19   1.00005541e+19 ...,   9.99880237e+16\n",
      "   9.99908657e+18   9.99926365e+16]\n",
      "with 4577464 values\n",
      "\n",
      "Unique values for hour:\n",
      "[14103100 14103101 14103102 14103103 14103104 14103105 14103106 14103107\n",
      " 14103108 14103109 14103110 14103111 14103112 14103113 14103114 14103115\n",
      " 14103116 14103117 14103118 14103119 14103120 14103121 14103122 14103123]\n",
      "with 24 values\n",
      "\n",
      "Unique values for C1:\n",
      "[1005 1010 1012 1002 1007 1001 1008]\n",
      "with 7 values\n",
      "\n",
      "Unique values for banner_pos:\n",
      "[0 1 7 2 4 3]\n",
      "with 6 values\n",
      "\n",
      "Unique values for site_id:\n",
      "['235ba823' '1fbe01fe' '85f751fd' ..., '4327e528' '3525557b' 'feb793b0']\n",
      "with 2825 values\n",
      "\n",
      "Unique values for site_domain:\n",
      "['f6ebf28e' 'f3845767' 'c4e18dd6' ..., 'bd3148f5' '94c52720' '7e4dbca9']\n",
      "with 3366 values\n",
      "\n",
      "Unique values for site_category:\n",
      "['f028772b' '28905ebd' '50e219e0' '3e814130' 'c0dd3be3' '75fa27f6'\n",
      " 'dedf689d' '335d28a8' 'f66779e6' '8fd0aea4' '72722551' '0569f928'\n",
      " '70fb0e29' '76b2941d' '42a36e14' '9ccfa2ea' 'a818d37a' '5378d028'\n",
      " 'e787de0e' 'bcf865d9' '74073276' 'a72a0145']\n",
      "with 22 values\n",
      "\n",
      "Unique values for app_id:\n",
      "['ecad2386' '51cedd4e' '9c13b419' ..., 'c66d1629' '1c1b3262' 'b47ce0ef']\n",
      "with 3952 values\n",
      "\n",
      "Unique values for app_domain:\n",
      "['7801e8d9' 'aefc06bd' '2347f47a' 'd9b5648e' '6f7ca2ba' '5c5a694b'\n",
      " 'ae637522' '0e8616ad' '82e27996' 'ad63ec9b' '448ca2e3' 'b9528b13'\n",
      " '1ea19ec4' '15ec7f39' 'fea0d84a' '45a51db4' 'f2f777fb' '5b9c592b'\n",
      " '33da2e74' 'b5f3b24a' '0654b444' 'df32afa9' 'c6824def' '2b627705'\n",
      " '5c620f04' '6a0a3a9d' '813f3323' 'b408d42a' '1ed56ded' '449e219f'\n",
      " '828da833' 'ae36b8ab' '27ee373d' '63f57be0' 'b7af3e0a' '2c1c31c6'\n",
      " 'b8d325c3' 'afdf1f54' '43cf4f06' 'fd5f0ee2' '9ec164d3' '5ac0b939'\n",
      " 'a8b0bf20' 'f5a7c834' 'f3ad7798' '18eb4e75' '298309ba' 'd18c63a1'\n",
      " '885c7f3f' '6f406d5b' 'a271c340' 'f435cae0' '3fa331b0' '26894d3c'\n",
      " '5b3f66ff' '3c992420' '9acfe436' 'd95432fe' 'cda96d46' '5ec95754'\n",
      " '6a90b0cb' 'd6feb1a4' 'd98095bb' '1dc9b529' 'dcdba109' '0d79ee56'\n",
      " 'a841febe' '323f3fe5' '7a9371fa' '1c895c8c' 'b2816726' '3ca588d4'\n",
      " 'b299335a' 'e24414c4' '519a450d' '5ad474ea' '15c23f8e' '12aaf71f'\n",
      " 'db829551' '8082ef3e' '3f64fb96' '453cec02' 'af524670' '7b833eb9'\n",
      " '713c0c91' 'd9e67b62' 'b7bbc1c1' 'e5d5313f' 'bd8c1fdc' '1833416a'\n",
      " '8d87821d' '5bcedd7d' '438468ad' '69528475' '7d58e760' 'b50610ee'\n",
      " '14aed3e1' '1c666936' '1cbecd39' 'c9373861' '88293ffa' '5211766b'\n",
      " '9c566260' 'fc857957' 'c9cc7d7f' '700adbf0' 'fd53c2dc' 'c36365e3'\n",
      " '28a85b13' 'f48b6635' '55888256' '435769ed' 'a21f883a' '7a94af76'\n",
      " 'fd0f197b' '949683f7' 'eaaf6d12' 'b9215c20' '93e5e131' 'd083df39'\n",
      " '8ab0d4f4' '97efe5c6' '7237c2c7' 'b51aefa8' '03da86e1' 'c41aa5ee'\n",
      " 'd15c637f' '99b4c806' '44324ff4' '8af3e517' '61b00f7b' '756ffb85'\n",
      " '8bb7dba9' '621d726b' '4fafd4c4' '179fcd69' '6a5282a9' 'df741103'\n",
      " '6bfb9168' '9830a8fb' 'ba275770' '6793d46b' '3df323d8' 'a5ab1a9f'\n",
      " 'f29c5d30' '3e611912' '1d5e09f4' '7c88bca5' 'b97def0d' 'bb85b34d'\n",
      " '734d52b9' '3feeed1e' 'a7accd5b' 'd48a01a6' '65b2af4c' '2b9cb6cc'\n",
      " 'cf9adca5' 'e4ab3355' '15f7400f' '1c37dcad' '36358a3d' '92895b94'\n",
      " 'f7f22564' '32742381' '31d17fc8' 'd22b6d64' '5aa9fd44' '6c2d0c26'\n",
      " '47db8711' '531c5e42' '6437e20c' 'fc41b20c' '5daf29b2' '954eee1d'\n",
      " 'fd6ae4a6' '6474d72c' '9299777a' '9d4e1767' 'a09b1cc0' '7690b9d7'\n",
      " '4e007635' '19b11785' '4890a39e' '3c08d416' 'ad65a8a2' '2c11183d'\n",
      " 'dec87c2e' 'f7eba725' '7bb90734' '6a65d513' '2ef29720' 'fb71befb'\n",
      " '3e5459f6' 'a7c33f94' 'da1be86e' '90d75517' 'c0940197' '316edd1b'\n",
      " 'e193e1f5' 'eefb7ad0' '800100e0']\n",
      "with 201 values\n",
      "\n",
      "Unique values for app_category:\n",
      "['07d7df22' '0f2161f8' 'f95efa07' 'cef3e649' '8ded1f7a' '4ce2e9fc'\n",
      " 'fc6fa53d' '8df2e842' 'dc97ec06' '75d80bbe' '09481d60' '879c24eb'\n",
      " 'd1327cf5' '2fc4f2aa' '0f9a328c' 'a86a3e89' '4681bb9d' '7113d72a'\n",
      " '2281a340' 'a3c42688' '79f0b860' '4b7ade46' 'a7fd01ec' '18b1e0be'\n",
      " 'f395a87f' '5326cf99' '0d82db25' '6fea3693']\n",
      "with 28 values\n",
      "\n",
      "Unique values for device_id:\n",
      "['a99f214a' '3772665a' 'f414c848' ..., '86950c2d' '1e40576d' '506e33ad']\n",
      "with 291759 values\n",
      "\n",
      "Unique values for device_ip:\n",
      "['69f45779' 'e8d44657' '10fb085b' ..., '56b17f2a' '7827449c' '9ed637bc']\n",
      "with 1077199 values\n",
      "\n",
      "Unique values for device_model:\n",
      "['0eb711ec' 'ecb851b2' '1f0bc64f' ..., '0c9aa646' '4de7424e' '56129af7']\n",
      "with 5438 values\n",
      "\n",
      "Unique values for device_type:\n",
      "[1 4 0 5]\n",
      "with 4 values\n",
      "\n",
      "Unique values for device_conn_type:\n",
      "[0 3 2 5]\n",
      "with 4 values\n",
      "\n",
      "Unique values for C14:\n",
      "[ 8330 22676 18648 ..., 23004  7649 24236]\n",
      "with 1257 values\n",
      "\n",
      "Unique values for C15:\n",
      "[ 320  300  216  480  728  768 1024  120]\n",
      "with 8 values\n",
      "\n",
      "Unique values for C16:\n",
      "[  50  250  480   36  320   90 1024  768   20]\n",
      "with 9 values\n",
      "\n",
      "Unique values for C17:\n",
      "[ 761 2616 1092 2667  572 2647 2675 2709 1722 2545 2736 2513 1873  547 2748\n",
      " 2716 2712 2374 2039 1994 2307 1887 1752 2729 2480 2624 2162 2264 1991 2424\n",
      "  423 1973 2676 2707 1934 2283 2227 2250 2556 2371 2756 2331 2060 2498 2714\n",
      " 2351 2555 2526 2316 2495 2708 2158 2749 1741 2295 2645 2740 2528 2104 1993\n",
      " 2482 2372 2658 2652 2599 1974 1872 1528 2610 2648 1800 2742 1895 2684 2659\n",
      "  112 2553 2609 2512  479 2743 2721 2412 1882 2653 1694 2601 2757 2735 2644\n",
      " 2443 1769  571  827 2323  901 2325 2450 2576 2711 2725 2554 2467  898 2642\n",
      "  768  906 2724 2225 2730 2494  544 2421 2640 2153 2454 1863 2312 1447 2348\n",
      " 2604 1174  863 2686 1921 2560 2662 2394 2397 2680 1507 2758 2639 1272  550\n",
      " 2641 2009 2646 2478 2471 2286 1740 2299 2339 2656 2643 2603 2284 2278 2285\n",
      " 2483 2710 2577 2154 2453 2527 2306 2481 2496 2187 2737 2509 2670 2617 2664\n",
      " 2242 2754 1685 1008 2551 2303 2706 1149  832 1969 2705 2649 2717 1107 2752\n",
      " 1141 1972  549 2761 2746 2759 2101 2479 2612 2567 2763 2764 2768 2765 2767\n",
      " 2766 2760 2715 2769 2722 2689 2772 2770 2776 2774 2777 2704 2674 2778 2771\n",
      " 2718 2782 2779 2781 2783 2785 2780 2784 2476 2786 2788 2734 2787 2755 2789\n",
      " 2762 2790 2792 2793  644 2791 2732 2575 2191 2511 2375 2701 2750 2292 2459]\n",
      "with 240 values\n",
      "\n",
      "Unique values for C18:\n",
      "[3 0 2 1]\n",
      "with 4 values\n",
      "\n",
      "Unique values for C19:\n",
      "[ 175   35  809   47   39  939  431   33 1059  163  297  289  299  425  161\n",
      "  937  935  167  559   41  291   43 1575 1063  813  171  681 1327 1319 1071\n",
      "  673  687 1315  801 1831  427 1451  169  815  303  555  943  553  295 1583\n",
      "  677 1199]\n",
      "with 47 values\n",
      "\n",
      "Unique values for C20:\n",
      "[100075 100083 100156     -1 100148 100058 100084 100170 100171 100130\n",
      " 100065 100074 100020 100077 100081 100111 100000 100192 100172 100119\n",
      " 100176 100185 100076 100177 100194 100112 100200 100217 100079 100113\n",
      " 100193 100103 100178 100013 100202 100141 100225 100221 100021 100131\n",
      " 100050 100188 100199 100189 100028 100190 100059 100019 100048 100034\n",
      " 100183 100086 100248 100070 100022 100094 100005 100155 100037 100151\n",
      " 100003 100002 100101 100128 100126 100133 100191 100124 100068 100001\n",
      " 100062 100025 100052 100071 100182 100105 100161 100224 100004 100088\n",
      " 100210 100041 100173 100233 100179 100095 100117 100144 100060 100160\n",
      " 100026 100046 100106 100241 100039 100195 100165 100097 100029 100152\n",
      " 100205 100244 100087 100139 100016 100212 100114 100109 100061 100228\n",
      " 100053 100072 100166 100213 100093 100181 100162 100096 100055 100137\n",
      " 100049 100149 100215 100073 100063 100138 100024 100150 100057 100054\n",
      " 100107 100206 100123 100121 100012 100135 100051 100143 100082 100153\n",
      " 100040 100064 100099 100175 100043 100168 100098 100091 100229 100090\n",
      " 100122 100010 100100 100163 100132 100108 100056 100246 100186 100078\n",
      " 100169 100187]\n",
      "with 162 values\n",
      "\n",
      "Unique values for C21:\n",
      "[ 23  51  61 221  32 100  79 246  68  33  82  42  71  16  95  48  46  17\n",
      " 171  94 101  52  15  13 251  91 253  90 112 116 102 219 204 255 240  76\n",
      " 184 194  70]\n",
      "with 39 values\n",
      "\n"
     ]
    }
   ],
   "source": [
    "basicDes(dft)"
   ]
  },
  {
   "cell_type": "markdown",
   "metadata": {},
   "source": [
    "Notice that the number of unique values for the same features in the test set are different from those in the training set\n",
    "(e.g.Unique values for app_domain for training set is 559, for test set is 201),\n",
    "a closer look at these features indicates that the values of features in test set are subsets of those in the training data.\n",
    "This also indicates that we should use the whole training set to do the encoding the data because any sample of training set \n",
    "might not cover all the possible values in the test set, and led to problems in prediction.        "
   ]
  },
  {
   "cell_type": "code",
   "execution_count": 10,
   "metadata": {
    "collapsed": true
   },
   "outputs": [],
   "source": [
    "# explore key variable"
   ]
  },
  {
   "cell_type": "code",
   "execution_count": 11,
   "metadata": {
    "collapsed": false
   },
   "outputs": [
    {
     "name": "stdout",
     "output_type": "stream",
     "text": [
      "count    4.042897e+07\n",
      "mean     1.698056e-01\n",
      "std      3.754620e-01\n",
      "min      0.000000e+00\n",
      "25%      0.000000e+00\n",
      "50%      0.000000e+00\n",
      "75%      0.000000e+00\n",
      "max      1.000000e+00\n",
      "Name: click, dtype: float64\n"
     ]
    }
   ],
   "source": [
    "# Click through rate(CTR)\n",
    "print (df['click'].describe())"
   ]
  },
  {
   "cell_type": "markdown",
   "metadata": {},
   "source": [
    "Mean of click through rate is 0.1698, see this as baseline. Also this also indicates that the training set is quite \n",
    "imbalanced, need to balance the class weights in training."
   ]
  },
  {
   "cell_type": "code",
   "execution_count": 14,
   "metadata": {
    "collapsed": false
   },
   "outputs": [
    {
     "data": {
      "text/plain": [
       "14102209    447783\n",
       "14102210    438270\n",
       "14102813    432308\n",
       "14102212    408650\n",
       "14102814    387453\n",
       "14102211    386757\n",
       "14103004    347806\n",
       "14102809    328576\n",
       "14102213    323480\n",
       "14102208    322803\n",
       "14102808    291763\n",
       "14102206    288819\n",
       "14102205    286697\n",
       "14102816    283491\n",
       "14102815    282315\n",
       "14102817    280835\n",
       "14102105    273500\n",
       "14102304    273173\n",
       "14102812    272124\n",
       "14102104    264711\n",
       "14102417    262579\n",
       "14103014    259187\n",
       "14102810    258656\n",
       "14102811    257891\n",
       "14102416    252154\n",
       "14103013    250441\n",
       "14103012    249022\n",
       "14102315    246297\n",
       "14103005    244765\n",
       "14102514    242500\n",
       "             ...  \n",
       "14102121     89501\n",
       "14102300     89341\n",
       "14102622     88869\n",
       "14102122     88436\n",
       "14103000     87333\n",
       "14102723     87207\n",
       "14102702     85828\n",
       "14103023     83608\n",
       "14102800     82520\n",
       "14102400     82137\n",
       "14102621     82130\n",
       "14102601     80863\n",
       "14102501     80637\n",
       "14102200     78006\n",
       "14102504     76816\n",
       "14102623     76770\n",
       "14102523     76506\n",
       "14102701     75382\n",
       "14102123     73940\n",
       "14102500     73446\n",
       "14102600     72185\n",
       "14102503     67443\n",
       "14102700     62254\n",
       "14102506     51726\n",
       "14102502     38400\n",
       "14102419     34163\n",
       "14102423     25622\n",
       "14102420     23124\n",
       "14102421     20367\n",
       "14102422     14876\n",
       "Name: hour, Length: 240, dtype: int64"
      ]
     },
     "execution_count": 14,
     "metadata": {},
     "output_type": "execute_result"
    }
   ],
   "source": [
    "# time trend\n",
    "df['hour'].value_counts(normalize=False, sort=True, ascending=False)"
   ]
  },
  {
   "cell_type": "code",
   "execution_count": 25,
   "metadata": {
    "collapsed": true
   },
   "outputs": [],
   "source": [
    "# time trend exploration\n",
    "timeDF = df[['click','hour']]\n",
    "tt = timeDF.groupby('hour').mean()"
   ]
  },
  {
   "cell_type": "code",
   "execution_count": 26,
   "metadata": {
    "collapsed": true
   },
   "outputs": [],
   "source": [
    "def time_graph(x,y):\n",
    "    x = np.array(list(range(len(x))))\n",
    "    y = np.array(y)\n",
    "    plt.plot(x,y,'r')\n",
    "    plt.title('Time Trend of Click Through Rate(CTR)')\n",
    "    plt.xlabel('Time')\n",
    "    plt.ylabel('CTR')\n",
    "    plt.xlim([-0.05, np.max(x)])\n",
    "    plt.ylim([np.min(y)-0.1, np.max(y)+0.1])"
   ]
  },
  {
   "cell_type": "code",
   "execution_count": 20,
   "metadata": {
    "collapsed": true
   },
   "outputs": [],
   "source": [
    "%matplotlib inline"
   ]
  },
  {
   "cell_type": "code",
   "execution_count": 28,
   "metadata": {
    "collapsed": false
   },
   "outputs": [
    {
     "data": {
      "image/png": "[encoded data removed]",
      "text/plain": [
       "<matplotlib.figure.Figure at 0x19ea9e6e320>"
      ]
     },
     "metadata": {},
     "output_type": "display_data"
    }
   ],
   "source": [
    "# visualize the time trend\n",
    "time_graph(df['hour'].unique(),tt)"
   ]
  },
  {
   "cell_type": "markdown",
   "metadata": {},
   "source": [
    "The figure indicates that CTR is mostly in the range of (0.15,0.2) in all hours of all dates, does not vary too much on\n",
    "different dates. We might now want to split out the effect of dates and hours. \n",
    "Let us create variables to see if hours in the range of (0,23) and dates(141021-141030)is correlated with CTR."
   ]
  },
  {
   "cell_type": "code",
   "execution_count": 4,
   "metadata": {
    "collapsed": true
   },
   "outputs": [],
   "source": [
    "# create hour and date features\n",
    "hourd = []\n",
    "dated = []\n",
    "for val in df['hour'].values:\n",
    "    hourd.append(int(str(val)[-2:]))\n",
    "    dated.append(int(str(val)[:-2]))\n",
    "hourd = pd.Series(hourd)\n",
    "dated = pd.Series(dated)"
   ]
  },
  {
   "cell_type": "code",
   "execution_count": 6,
   "metadata": {
    "collapsed": true
   },
   "outputs": [],
   "source": [
    "# add to dataframe and get mean of CTR\n",
    "timeDF['hourd'] = hourd\n",
    "timeDF['dated'] = dated\n",
    "\n",
    "tth = timeDF.groupby('hourd').mean()['click']\n",
    "ttd = timeDF.groupby('dated').mean()['click']"
   ]
  },
  {
   "cell_type": "code",
   "execution_count": 35,
   "metadata": {
    "collapsed": false
   },
   "outputs": [
    {
     "data": {
      "image/png": "[encoded data removed]",
      "text/plain": [
       "<matplotlib.figure.Figure at 0x19ea934f2e8>"
      ]
     },
     "metadata": {},
     "output_type": "display_data"
    }
   ],
   "source": [
    "# visualize the hour time trend\n",
    "time_graph(timeDF['hourd'].unique(),tth)"
   ]
  },
  {
   "cell_type": "code",
   "execution_count": 36,
   "metadata": {
    "collapsed": false
   },
   "outputs": [
    {
     "data": {
      "image/png": "[encoded data removed]",
      "text/plain": [
       "<matplotlib.figure.Figure at 0x19ea9344668>"
      ]
     },
     "metadata": {},
     "output_type": "display_data"
    }
   ],
   "source": [
    "# visualize the date time trend\n",
    "time_graph(timeDF['dated'].unique(),ttd)"
   ]
  },
  {
   "cell_type": "markdown",
   "metadata": {},
   "source": [
    "From these two figures we also find that the CTR distributes relatively evenly according to hour and date, so we do not need \n",
    "to remove time trend. Also, we can sample according to time uniformly to get our training sample. In this case, I decide to \n",
    "use 1% of each hour (according to the 'hourd' variable) to get my sample for training later. \n",
    "We might also want to use the 'hourd' variable to replace the original 'hour' variable to represent the time feature in our training since 'hourd' has lower dimensionality without much loss in approximating the original 'hour' distribution."
   ]
  },
  {
   "cell_type": "markdown",
   "metadata": {},
   "source": [
    "STEP TWO: FEATURE ENGINEERING"
   ]
  },
  {
   "cell_type": "code",
   "execution_count": 7,
   "metadata": {
    "collapsed": true
   },
   "outputs": [],
   "source": [
    "# first we could want to add the 'hourd' variable into the training dataframe\n",
    "df['hourd'] = hourd"
   ]
  },
  {
   "cell_type": "code",
   "execution_count": 8,
   "metadata": {
    "collapsed": true
   },
   "outputs": [],
   "source": [
    "#create the same 'hourd' feature for the test set\n",
    "hourd_test = []\n",
    "for val in dft['hour'].values:\n",
    "    hourd_test.append(int(str(val)[-2:]))\n",
    "hourd = pd.Series(hourd)\n",
    "dft['hourd'] = hourd_test"
   ]
  },
  {
   "cell_type": "code",
   "execution_count": 11,
   "metadata": {
    "collapsed": false
   },
   "outputs": [
    {
     "data": {
      "text/plain": [
       "24"
      ]
     },
     "execution_count": 11,
     "metadata": {},
     "output_type": "execute_result"
    }
   ],
   "source": [
    "len(list(dft))"
   ]
  },
  {
   "cell_type": "code",
   "execution_count": 12,
   "metadata": {
    "collapsed": false
   },
   "outputs": [
    {
     "data": {
      "text/plain": [
       "25"
      ]
     },
     "execution_count": 12,
     "metadata": {},
     "output_type": "execute_result"
    }
   ],
   "source": [
    "len(list(df))"
   ]
  },
  {
   "cell_type": "markdown",
   "metadata": {},
   "source": [
    "A further look at the unique values for features in the training set, we realize that 'device_id' has 2686408 unique values,\n",
    "and 'device_ip' has 6729486 unique values. The high dimension and difficulty to re-categorize of these two variables make it \n",
    "reasonable to remove these two features for training."
   ]
  },
  {
   "cell_type": "code",
   "execution_count": 13,
   "metadata": {
    "collapsed": true
   },
   "outputs": [],
   "source": [
    "# list features we are interested in\n",
    "categorical_cols = ['C1', 'banner_pos', 'site_id', 'site_domain', 'site_category', \\\n",
    "                    'app_id', 'app_domain', 'app_category', 'device_model', 'device_type', \\\n",
    "                    'device_conn_type', 'C14', 'C15', 'C16', 'C17', 'C18', 'C19', 'C20', 'C21', 'hourd']"
   ]
  },
  {
   "cell_type": "code",
   "execution_count": 14,
   "metadata": {
    "collapsed": false
   },
   "outputs": [
    {
     "data": {
      "text/plain": [
       "20"
      ]
     },
     "execution_count": 14,
     "metadata": {},
     "output_type": "execute_result"
    }
   ],
   "source": [
    "len(categorical_cols)"
   ]
  },
  {
   "cell_type": "code",
   "execution_count": 15,
   "metadata": {
    "collapsed": true
   },
   "outputs": [],
   "source": [
    "# combine the training and test set to preprocess the data as a whole\n",
    "df_cate = pd.concat([df[categorical_cols], dft[categorical_cols]], ignore_index=False)"
   ]
  },
  {
   "cell_type": "code",
   "execution_count": 16,
   "metadata": {
    "collapsed": false
   },
   "outputs": [
    {
     "name": "stdout",
     "output_type": "stream",
     "text": [
      "(40428967, 25)\n"
     ]
    }
   ],
   "source": [
    "print (df.shape)"
   ]
  },
  {
   "cell_type": "code",
   "execution_count": 17,
   "metadata": {
    "collapsed": false
   },
   "outputs": [
    {
     "name": "stdout",
     "output_type": "stream",
     "text": [
      "(4577464, 24)\n"
     ]
    }
   ],
   "source": [
    "print (dft.shape)"
   ]
  },
  {
   "cell_type": "code",
   "execution_count": 18,
   "metadata": {
    "collapsed": false
   },
   "outputs": [
    {
     "name": "stdout",
     "output_type": "stream",
     "text": [
      "(45006431, 20)\n"
     ]
    }
   ],
   "source": [
    "print (df_cate.shape)"
   ]
  },
  {
   "cell_type": "markdown",
   "metadata": {},
   "source": [
    "now let's explore features with dimension of 1000 and above and see how we can re-categorize them"
   ]
  },
  {
   "cell_type": "code",
   "execution_count": 21,
   "metadata": {
    "collapsed": false
   },
   "outputs": [
    {
     "data": {
      "image/png": "[encoded data removed]",
      "text/plain": [
       "<matplotlib.figure.Figure at 0x22a9849c198>"
      ]
     },
     "metadata": {},
     "output_type": "display_data"
    }
   ],
   "source": [
    "# now let's explore variables dimension of 1000 and above and see how we can re-categorize them\n",
    "def general_graph(x,y,VarName):\n",
    "    x = np.array(list(range(len(x))))\n",
    "    y = np.array(y)\n",
    "    plt.plot(x,y,'r')\n",
    "    plt.xlabel(VarName)\n",
    "    plt.ylabel('frequency')\n",
    "    plt.xlim([-0.05, np.max(x)])\n",
    "    plt.ylim([-0.05, np.max(y)+2])\n",
    "general_graph(df_cate['site_id'].unique(),df_cate['site_id'].value_counts(),'site_id counts')"
   ]
  },
  {
   "cell_type": "code",
   "execution_count": 53,
   "metadata": {
    "collapsed": true
   },
   "outputs": [],
   "source": [
    "# the figure shows site_id has long tail distribution, the frequency reduced significantly from around \n",
    "#count top 100 site_ids. Hence I decide to re-categorize the site_id into 101 categories, with top 100\n",
    "# site_id as they are, and the rest encode to one category as 'rest'\n",
    "def create_new_var(name,dimension):\n",
    "    target_set = set(df_cate[name].value_counts()[0:dimension].index.tolist())\n",
    "#     print (target_set)\n",
    "    new_val = []\n",
    "    for val in df_cate[name].values:\n",
    "        if val in target_set:\n",
    "            new_val.append(val)\n",
    "        else:\n",
    "            new_val.append('rest')\n",
    "    new_val = pd.Series(new_val)\n",
    "    return new_val\n",
    "# df_cate['site_id_enc'] = create_new_var('site_id',dimension)\n",
    "site_id_enc = create_new_var('site_id',100)\n",
    "df_cate['site_id_enc'] = site_id_enc"
   ]
  },
  {
   "cell_type": "code",
   "execution_count": 55,
   "metadata": {
    "collapsed": false
   },
   "outputs": [
    {
     "name": "stdout",
     "output_type": "stream",
     "text": [
      "['C1', 'banner_pos', 'site_id', 'site_domain', 'site_category', 'app_id', 'app_domain', 'app_category', 'device_model', 'device_type', 'device_conn_type', 'C14', 'C15', 'C16', 'C17', 'C18', 'C19', 'C20', 'C21', 'hourd', 'site_id_enc', 'site_domain_enc', 'app_id_enc', 'device_model_enc', 'C14_enc']\n",
      "100\n",
      "['1fbe01fe' 'rest' 'd6137915' 'e151e245' '84c7ba46' '9e8cf15d' '85f751fd'\n",
      " 'd9750ee7' '0c2fe9d6' '543a539e' '6ec06dbd' '0eb72673' '5ee41ff2'\n",
      " '6256f5b4' 'e023ba3e' '5b08c53b' '856e6d3f' '83a0ad1a' 'f9c69707'\n",
      " 'b7e9786d' '75f43c5a' '43d6df75' 'bb4524e7' '5b4d2eda' '93de26ae'\n",
      " 'faf9c1c2' 'd8bb8687' '6c5b482c' '763a42b5' '26fa1946' '38217daf'\n",
      " '7697ed3e' '6399eda6' '89a490f5' '1b171d6d' '7dd19f44' '29229f8e'\n",
      " '0a742914' 'd7f3460b' '5114c672' '93eaba74' '9a977531' '7c6576be'\n",
      " 'e3c09f3a' '17caea14' '61a8c644' 'e8f79e60' '9e8e8d09' 'c63170c5'\n",
      " '2328ee8e' '4bf5bbe2' '12fb4121' 'e5c60a05' '801dfefb' '7294ea0f'\n",
      " 'c1fcc9a1' 'fec6e632' 'cbb01868' 'f61eaaae' '517b8671' '222acd54'\n",
      " '9ee9dd00' 'e4d8dd7b' '57fe1b20' '92c7cbe7' '5b787406' 'e9ca7d40'\n",
      " '178a7b89' '1a5c1d83' 'b99a2c43' '791b5571' '887a4754' '2a68aa20'\n",
      " 'ee8b8550' 'b8eae5f9' 'c54454a2' 'd1a51189' '3281baa7' 'ba9aee1b'\n",
      " '2b1ddb24' 'cf3a1767' '2fdff0f2' '88154ade' 'df7971d4' '5bcf81a2'\n",
      " '16c73019' '3dc2d6de' 'f0ee33c5' 'ac696ed4' 'a7853007' 'e7a92cc6'\n",
      " 'f6cba1bd' '78d60190' '235ba823' 'dcc019de' '6fcff501' 'ce3307ec'\n",
      " '4e7614cf' '57ef2c87' 'ec47f32a']\n"
     ]
    }
   ],
   "source": [
    "#now we check if the new variable has been added\n",
    "print (list(df_cate))\n",
    "print (len(df_cate['site_id_enc'].unique()))\n",
    "print (df_cate['site_id_enc'].unique())"
   ]
  },
  {
   "cell_type": "code",
   "execution_count": 38,
   "metadata": {
    "collapsed": false
   },
   "outputs": [
    {
     "data": {
      "image/png": "[encoded data removed]",
      "text/plain": [
       "<matplotlib.figure.Figure at 0x227c67a9438>"
      ]
     },
     "metadata": {},
     "output_type": "display_data"
    }
   ],
   "source": [
    "# do the same visualization for 'site_domain' feature with 7745 categories\n",
    "general_graph(df_cate['site_domain'].unique(),df_cate['site_domain'].value_counts(),'site_domain counts')"
   ]
  },
  {
   "cell_type": "code",
   "execution_count": 56,
   "metadata": {
    "collapsed": true
   },
   "outputs": [],
   "source": [
    "# similarly, the figure shows 'site_domain' has long tail distribution, the frequency reduced significantly from around \n",
    "#count top 100 site_ids, hence we follow same approach\n",
    "site_domain_enc = create_new_var('site_id',100)\n",
    "df_cate['site_domain_enc'] = site_domain_enc"
   ]
  },
  {
   "cell_type": "code",
   "execution_count": 40,
   "metadata": {
    "collapsed": false
   },
   "outputs": [
    {
     "data": {
      "image/png": "[encoded data removed]",
      "text/plain": [
       "<matplotlib.figure.Figure at 0x227c6845b00>"
      ]
     },
     "metadata": {},
     "output_type": "display_data"
    }
   ],
   "source": [
    "# do the same for 'app_id' with 8552 categories\n",
    "general_graph(df_cate['app_id'].unique(),df_cate['app_id'].value_counts(),'app_id counts')"
   ]
  },
  {
   "cell_type": "code",
   "execution_count": 57,
   "metadata": {
    "collapsed": true
   },
   "outputs": [],
   "source": [
    "app_id_enc = create_new_var('app_id',100)\n",
    "df_cate['app_id_enc'] = app_id_enc"
   ]
  },
  {
   "cell_type": "code",
   "execution_count": 42,
   "metadata": {
    "collapsed": false
   },
   "outputs": [
    {
     "data": {
      "image/png": "[encoded data removed]",
      "text/plain": [
       "<matplotlib.figure.Figure at 0x227c67112b0>"
      ]
     },
     "metadata": {},
     "output_type": "display_data"
    }
   ],
   "source": [
    "# for 'device_model' with 8251 values\n",
    "general_graph(df_cate['device_model'].unique(),df_cate['device_model'].value_counts(),'device_model counts')"
   ]
  },
  {
   "cell_type": "code",
   "execution_count": 58,
   "metadata": {
    "collapsed": true
   },
   "outputs": [],
   "source": [
    "# note that the frequency reached to tail at between top 200-300, we choose dimension to be 250 \n",
    "device_model_enc = create_new_var('device_model',250)\n",
    "df_cate['device_model_enc'] = device_model_enc"
   ]
  },
  {
   "cell_type": "code",
   "execution_count": 44,
   "metadata": {
    "collapsed": false
   },
   "outputs": [
    {
     "data": {
      "image/png": "[encoded data removed]",
      "text/plain": [
       "<matplotlib.figure.Figure at 0x227c68caf60>"
      ]
     },
     "metadata": {},
     "output_type": "display_data"
    }
   ],
   "source": [
    "# finally, we do the same for 'C14' variable, with 2626 categories\n",
    "general_graph(df_cate['C14'].unique(),df_cate['C14'].value_counts(),'C14 counts')"
   ]
  },
  {
   "cell_type": "code",
   "execution_count": 59,
   "metadata": {
    "collapsed": true
   },
   "outputs": [],
   "source": [
    "# according to the distribution, 500 is likely to be a reasonable choice\n",
    "C14_enc = create_new_var('C14',500)\n",
    "df_cate['C14_enc'] = C14_enc"
   ]
  },
  {
   "cell_type": "code",
   "execution_count": 60,
   "metadata": {
    "collapsed": false
   },
   "outputs": [
    {
     "name": "stdout",
     "output_type": "stream",
     "text": [
      "['C1', 'banner_pos', 'site_id', 'site_domain', 'site_category', 'app_id', 'app_domain', 'app_category', 'device_model', 'device_type', 'device_conn_type', 'C14', 'C15', 'C16', 'C17', 'C18', 'C19', 'C20', 'C21', 'hourd', 'site_id_enc', 'site_domain_enc', 'app_id_enc', 'device_model_enc', 'C14_enc']\n",
      "(45006431, 25)\n"
     ]
    }
   ],
   "source": [
    "# now let's check the name and shape of our dataframe \n",
    "print (list(df_cate))\n",
    "print (df_cate.shape)"
   ]
  },
  {
   "cell_type": "code",
   "execution_count": 61,
   "metadata": {
    "collapsed": false
   },
   "outputs": [
    {
     "name": "stdout",
     "output_type": "stream",
     "text": [
      "20\n"
     ]
    }
   ],
   "source": [
    "# the new list of features we are interested in becomes the following\n",
    "new_names = ['C1', 'banner_pos', 'site_category','app_domain', \n",
    "             'app_category','device_type', 'device_conn_type','C15', \n",
    "             'C16', 'C17', 'C18', 'C19', 'C20', 'C21', 'hourd', 'site_id_enc', \n",
    "             'site_domain_enc', 'app_id_enc', 'device_model_enc', 'C14_enc']\n",
    "print (len(new_names))"
   ]
  },
  {
   "cell_type": "code",
   "execution_count": 62,
   "metadata": {
    "collapsed": true
   },
   "outputs": [],
   "source": [
    "# now let's transform all of features into categorical integers\n",
    "for col in new_names:\n",
    "    df_cate[col] = pd.factorize(df_cate[col])[0]"
   ]
  },
  {
   "cell_type": "code",
   "execution_count": 52,
   "metadata": {
    "collapsed": false
   },
   "outputs": [
    {
     "name": "stdout",
     "output_type": "stream",
     "text": [
      "Unique values for C1:\n",
      "[0 1 2 3 4 5 6]\n",
      "with 7 values\n",
      "\n",
      "Unique values for banner_pos:\n",
      "[0 1 2 3 4 5 6]\n",
      "with 7 values\n",
      "\n",
      "Unique values for site_category:\n",
      "[ 0  1  2  3  4  5  6  7  8  9 10 11 12 13 14 15 16 17 18 19 20 21 22 23 24\n",
      " 25]\n",
      "with 26 values\n",
      "\n",
      "Unique values for app_domain:\n",
      "[  0   1   2   3   4   5   6   7   8   9  10  11  12  13  14  15  16  17\n",
      "  18  19  20  21  22  23  24  25  26  27  28  29  30  31  32  33  34  35\n",
      "  36  37  38  39  40  41  42  43  44  45  46  47  48  49  50  51  52  53\n",
      "  54  55  56  57  58  59  60  61  62  63  64  65  66  67  68  69  70  71\n",
      "  72  73  74  75  76  77  78  79  80  81  82  83  84  85  86  87  88  89\n",
      "  90  91  92  93  94  95  96  97  98  99 100 101 102 103 104 105 106 107\n",
      " 108 109 110 111 112 113 114 115 116 117 118 119 120 121 122 123 124 125\n",
      " 126 127 128 129 130 131 132 133 134 135 136 137 138 139 140 141 142 143\n",
      " 144 145 146 147 148 149 150 151 152 153 154 155 156 157 158 159 160 161\n",
      " 162 163 164 165 166 167 168 169 170 171 172 173 174 175 176 177 178 179\n",
      " 180 181 182 183 184 185 186 187 188 189 190 191 192 193 194 195 196 197\n",
      " 198 199 200 201 202 203 204 205 206 207 208 209 210 211 212 213 214 215\n",
      " 216 217 218 219 220 221 222 223 224 225 226 227 228 229 230 231 232 233\n",
      " 234 235 236 237 238 239 240 241 242 243 244 245 246 247 248 249 250 251\n",
      " 252 253 254 255 256 257 258 259 260 261 262 263 264 265 266 267 268 269\n",
      " 270 271 272 273 274 275 276 277 278 279 280 281 282 283 284 285 286 287\n",
      " 288 289 290 291 292 293 294 295 296 297 298 299 300 301 302 303 304 305\n",
      " 306 307 308 309 310 311 312 313 314 315 316 317 318 319 320 321 322 323\n",
      " 324 325 326 327 328 329 330 331 332 333 334 335 336 337 338 339 340 341\n",
      " 342 343 344 345 346 347 348 349 350 351 352 353 354 355 356 357 358 359\n",
      " 360 361 362 363 364 365 366 367 368 369 370 371 372 373 374 375 376 377\n",
      " 378 379 380 381 382 383 384 385 386 387 388 389 390 391 392 393 394 395\n",
      " 396 397 398 399 400 401 402 403 404 405 406 407 408 409 410 411 412 413\n",
      " 414 415 416 417 418 419 420 421 422 423 424 425 426 427 428 429 430 431\n",
      " 432 433 434 435 436 437 438 439 440 441 442 443 444 445 446 447 448 449\n",
      " 450 451 452 453 454 455 456 457 458 459 460 461 462 463 464 465 466 467\n",
      " 468 469 470 471 472 473 474 475 476 477 478 479 480 481 482 483 484 485\n",
      " 486 487 488 489 490 491 492 493 494 495 496 497 498 499 500 501 502 503\n",
      " 504 505 506 507 508 509 510 511 512 513 514 515 516 517 518 519 520 521\n",
      " 522 523 524 525 526 527 528 529 530 531 532 533 534 535 536 537 538 539\n",
      " 540 541 542 543 544 545 546 547 548 549 550 551 552 553 554 555 556 557\n",
      " 558 559 560 561 562 563 564 565 566 567 568 569 570 571 572 573 574 575\n",
      " 576 577 578 579]\n",
      "with 580 values\n",
      "\n",
      "Unique values for app_category:\n",
      "[ 0  1  2  3  4  5  6  7  8  9 10 11 12 13 14 15 16 17 18 19 20 21 22 23 24\n",
      " 25 26 27 28 29 30 31 32 33 34 35]\n",
      "with 36 values\n",
      "\n",
      "Unique values for device_type:\n",
      "[0 1 2 3 4]\n",
      "with 5 values\n",
      "\n",
      "Unique values for device_conn_type:\n",
      "[0 1 2 3]\n",
      "with 4 values\n",
      "\n",
      "Unique values for C15:\n",
      "[0 1 2 3 4 5 6 7]\n",
      "with 8 values\n",
      "\n",
      "Unique values for C16:\n",
      "[0 1 2 3 4 5 6 7 8]\n",
      "with 9 values\n",
      "\n",
      "Unique values for C17:\n",
      "[  0   1   2   3   4   5   6   7   8   9  10  11  12  13  14  15  16  17\n",
      "  18  19  20  21  22  23  24  25  26  27  28  29  30  31  32  33  34  35\n",
      "  36  37  38  39  40  41  42  43  44  45  46  47  48  49  50  51  52  53\n",
      "  54  55  56  57  58  59  60  61  62  63  64  65  66  67  68  69  70  71\n",
      "  72  73  74  75  76  77  78  79  80  81  82  83  84  85  86  87  88  89\n",
      "  90  91  92  93  94  95  96  97  98  99 100 101 102 103 104 105 106 107\n",
      " 108 109 110 111 112 113 114 115 116 117 118 119 120 121 122 123 124 125\n",
      " 126 127 128 129 130 131 132 133 134 135 136 137 138 139 140 141 142 143\n",
      " 144 145 146 147 148 149 150 151 152 153 154 155 156 157 158 159 160 161\n",
      " 162 163 164 165 166 167 168 169 170 171 172 173 174 175 176 177 178 179\n",
      " 180 181 182 183 184 185 186 187 188 189 190 191 192 193 194 195 196 197\n",
      " 198 199 200 201 202 203 204 205 206 207 208 209 210 211 212 213 214 215\n",
      " 216 217 218 219 220 221 222 223 224 225 226 227 228 229 230 231 232 233\n",
      " 234 235 236 237 238 239 240 241 242 243 244 245 246 247 248 249 250 251\n",
      " 252 253 254 255 256 257 258 259 260 261 262 263 264 265 266 267 268 269\n",
      " 270 271 272 273 274 275 276 277 278 279 280 281 282 283 284 285 286 287\n",
      " 288 289 290 291 292 293 294 295 296 297 298 299 300 301 302 303 304 305\n",
      " 306 307 308 309 310 311 312 313 314 315 316 317 318 319 320 321 322 323\n",
      " 324 325 326 327 328 329 330 331 332 333 334 335 336 337 338 339 340 341\n",
      " 342 343 344 345 346 347 348 349 350 351 352 353 354 355 356 357 358 359\n",
      " 360 361 362 363 364 365 366 367 368 369 370 371 372 373 374 375 376 377\n",
      " 378 379 380 381 382 383 384 385 386 387 388 389 390 391 392 393 394 395\n",
      " 396 397 398 399 400 401 402 403 404 405 406 407 408 409 410 411 412 413\n",
      " 414 415 416 417 418 419 420 421 422 423 424 425 426 427 428 429 430 431\n",
      " 432 433 434 435 436 437 438 439 440 441 442 443 444 445 446 447 448 449\n",
      " 450 451 452 453 454 455 456 457 458 459 460 461 462 463 464 465 466 467\n",
      " 468 469 470 471 472 473]\n",
      "with 474 values\n",
      "\n",
      "Unique values for C18:\n",
      "[0 1 2 3]\n",
      "with 4 values\n",
      "\n",
      "Unique values for C19:\n",
      "[ 0  1  2  3  4  5  6  7  8  9 10 11 12 13 14 15 16 17 18 19 20 21 22 23 24\n",
      " 25 26 27 28 29 30 31 32 33 34 35 36 37 38 39 40 41 42 43 44 45 46 47 48 49\n",
      " 50 51 52 53 54 55 56 57 58 59 60 61 62 63 64 65 66 67 68]\n",
      "with 69 values\n",
      "\n",
      "Unique values for C20:\n",
      "[  0   1   2   3   4   5   6   7   8   9  10  11  12  13  14  15  16  17\n",
      "  18  19  20  21  22  23  24  25  26  27  28  29  30  31  32  33  34  35\n",
      "  36  37  38  39  40  41  42  43  44  45  46  47  48  49  50  51  52  53\n",
      "  54  55  56  57  58  59  60  61  62  63  64  65  66  67  68  69  70  71\n",
      "  72  73  74  75  76  77  78  79  80  81  82  83  84  85  86  87  88  89\n",
      "  90  91  92  93  94  95  96  97  98  99 100 101 102 103 104 105 106 107\n",
      " 108 109 110 111 112 113 114 115 116 117 118 119 120 121 122 123 124 125\n",
      " 126 127 128 129 130 131 132 133 134 135 136 137 138 139 140 141 142 143\n",
      " 144 145 146 147 148 149 150 151 152 153 154 155 156 157 158 159 160 161\n",
      " 162 163 164 165 166 167 168 169 170 171]\n",
      "with 172 values\n",
      "\n",
      "Unique values for C21:\n",
      "[ 0  1  2  3  4  5  6  7  8  9 10 11 12 13 14 15 16 17 18 19 20 21 22 23 24\n",
      " 25 26 27 28 29 30 31 32 33 34 35 36 37 38 39 40 41 42 43 44 45 46 47 48 49\n",
      " 50 51 52 53 54 55 56 57 58 59 60 61]\n",
      "with 62 values\n",
      "\n",
      "Unique values for hourd:\n",
      "[ 0  1  2  3  4  5  6  7  8  9 10 11 12 13 14 15 16 17 18 19 20 21 22 23]\n",
      "with 24 values\n",
      "\n",
      "Unique values for site_id_enc:\n",
      "[ 0  1  2  3  4  5  6  7  8  9 10 11 12 13 14 15 16 17 18 19 20 21 22 23 24\n",
      " 25 26 27 28 29 30 31 32 33 34 35 36 37 38 39 40 41 42 43 44 45 46 47 48 49\n",
      " 50 51 52 53 54 55 56 57 58 59 60 61 62 63 64 65 66 67 68 69 70 71 72 73 74\n",
      " 75 76 77 78 79 80 81 82 83 84 85 86 87 88 89 90 91 92 93 94 95 96 97 98 99]\n",
      "with 100 values\n",
      "\n",
      "Unique values for site_domain_enc:\n",
      "[ 0  1  2  3  4  5  6  7  8  9 10 11 12 13 14 15 16 17 18 19 20 21 22 23 24\n",
      " 25 26 27 28 29 30 31 32 33 34 35 36 37 38 39 40 41 42 43 44 45 46 47 48 49\n",
      " 50 51 52 53 54 55 56 57 58 59 60 61 62 63 64 65 66 67 68 69 70 71 72 73 74\n",
      " 75 76 77 78 79 80 81 82 83 84 85 86 87 88 89 90 91 92 93 94 95 96 97 98 99]\n",
      "with 100 values\n",
      "\n",
      "Unique values for app_id_enc:\n",
      "[  0   1   2   3   4   5   6   7   8   9  10  11  12  13  14  15  16  17\n",
      "  18  19  20  21  22  23  24  25  26  27  28  29  30  31  32  33  34  35\n",
      "  36  37  38  39  40  41  42  43  44  45  46  47  48  49  50  51  52  53\n",
      "  54  55  56  57  58  59  60  61  62  63  64  65  66  67  68  69  70  71\n",
      "  72  73  74  75  76  77  78  79  80  81  82  83  84  85  86  87  88  89\n",
      "  90  91  92  93  94  95  96  97  98  99 100]\n",
      "with 101 values\n",
      "\n",
      "Unique values for device_model_enc:\n",
      "[  0   1   2   3   4   5   6   7   8   9  10  11  12  13  14  15  16  17\n",
      "  18  19  20  21  22  23  24  25  26  27  28  29  30  31  32  33  34  35\n",
      "  36  37  38  39  40  41  42  43  44  45  46  47  48  49  50  51  52  53\n",
      "  54  55  56  57  58  59  60  61  62  63  64  65  66  67  68  69  70  71\n",
      "  72  73  74  75  76  77  78  79  80  81  82  83  84  85  86  87  88  89\n",
      "  90  91  92  93  94  95  96  97  98  99 100 101 102 103 104 105 106 107\n",
      " 108 109 110 111 112 113 114 115 116 117 118 119 120 121 122 123 124 125\n",
      " 126 127 128 129 130 131 132 133 134 135 136 137 138 139 140 141 142 143\n",
      " 144 145 146 147 148 149 150 151 152 153 154 155 156 157 158 159 160 161\n",
      " 162 163 164 165 166 167 168 169 170 171 172 173 174 175 176 177 178 179\n",
      " 180 181 182 183 184 185 186 187 188 189 190 191 192 193 194 195 196 197\n",
      " 198 199 200 201 202 203 204 205 206 207 208 209 210 211 212 213 214 215\n",
      " 216 217 218 219 220 221 222 223 224 225 226 227 228 229 230 231 232 233\n",
      " 234 235 236 237 238 239 240 241 242 243 244 245 246 247 248 249 250]\n",
      "with 251 values\n",
      "\n",
      "Unique values for C14_enc:\n",
      "[  0   1   2   3   4   5   6   7   8   9  10  11  12  13  14  15  16  17\n",
      "  18  19  20  21  22  23  24  25  26  27  28  29  30  31  32  33  34  35\n",
      "  36  37  38  39  40  41  42  43  44  45  46  47  48  49  50  51  52  53\n",
      "  54  55  56  57  58  59  60  61  62  63  64  65  66  67  68  69  70  71\n",
      "  72  73  74  75  76  77  78  79  80  81  82  83  84  85  86  87  88  89\n",
      "  90  91  92  93  94  95  96  97  98  99 100 101 102 103 104 105 106 107\n",
      " 108 109 110 111 112 113 114 115 116 117 118 119 120 121 122 123 124 125\n",
      " 126 127 128 129 130 131 132 133 134 135 136 137 138 139 140 141 142 143\n",
      " 144 145 146 147 148 149 150 151 152 153 154 155 156 157 158 159 160 161\n",
      " 162 163 164 165 166 167 168 169 170 171 172 173 174 175 176 177 178 179\n",
      " 180 181 182 183 184 185 186 187 188 189 190 191 192 193 194 195 196 197\n",
      " 198 199 200 201 202 203 204 205 206 207 208 209 210 211 212 213 214 215\n",
      " 216 217 218 219 220 221 222 223 224 225 226 227 228 229 230 231 232 233\n",
      " 234 235 236 237 238 239 240 241 242 243 244 245 246 247 248 249 250 251\n",
      " 252 253 254 255 256 257 258 259 260 261 262 263 264 265 266 267 268 269\n",
      " 270 271 272 273 274 275 276 277 278 279 280 281 282 283 284 285 286 287\n",
      " 288 289 290 291 292 293 294 295 296 297 298 299 300 301 302 303 304 305\n",
      " 306 307 308 309 310 311 312 313 314 315 316 317 318 319 320 321 322 323\n",
      " 324 325 326 327 328 329 330 331 332 333 334 335 336 337 338 339 340 341\n",
      " 342 343 344 345 346 347 348 349 350 351 352 353 354 355 356 357 358 359\n",
      " 360 361 362 363 364 365 366 367 368 369 370 371 372 373 374 375 376 377\n",
      " 378 379 380 381 382 383 384 385 386 387 388 389 390 391 392 393 394 395\n",
      " 396 397 398 399 400 401 402 403 404 405 406 407 408 409 410 411 412 413\n",
      " 414 415 416 417 418 419 420 421 422 423 424 425 426 427 428 429 430 431\n",
      " 432 433 434 435 436 437 438 439 440 441 442 443 444 445 446 447 448 449\n",
      " 450 451 452 453 454 455]\n",
      "with 456 values\n",
      "\n"
     ]
    }
   ],
   "source": [
    "basicDes(df_cate[new_names])"
   ]
  },
  {
   "cell_type": "markdown",
   "metadata": {},
   "source": [
    "Note that we find the unique values of df_cate(cancatenation of training and test set)\n",
    "is different from the unique values of df(just the training set), see the following \n",
    "features as examples(name, df_cate unique values-df unique values]: 'C17',474-435;'app_domain',580-559; 'C17',474-435; 'C19', 69-68; 'C21',62-60\n",
    "so it's necessary that we do the encoding in one step to avoid cases of unrecognized feature value\n",
    "in prediction"
   ]
  },
  {
   "cell_type": "code",
   "execution_count": 63,
   "metadata": {
    "collapsed": false
   },
   "outputs": [
    {
     "name": "stdout",
     "output_type": "stream",
     "text": [
      "2885\n",
      "[15706 15704 18993 ..., 24349 24328 24236]\n"
     ]
    }
   ],
   "source": [
    "print (len(df_cate['C14'].unique()))\n",
    "print (df_cate['C14'].unique())"
   ]
  },
  {
   "cell_type": "code",
   "execution_count": 64,
   "metadata": {
    "collapsed": false
   },
   "outputs": [
    {
     "name": "stdout",
     "output_type": "stream",
     "text": [
      "456\n",
      "[  0   1   2   3   4   5   6   7   8   9  10  11  12  13  14  15  16  17\n",
      "  18  19  20  21  22  23  24  25  26  27  28  29  30  31  32  33  34  35\n",
      "  36  37  38  39  40  41  42  43  44  45  46  47  48  49  50  51  52  53\n",
      "  54  55  56  57  58  59  60  61  62  63  64  65  66  67  68  69  70  71\n",
      "  72  73  74  75  76  77  78  79  80  81  82  83  84  85  86  87  88  89\n",
      "  90  91  92  93  94  95  96  97  98  99 100 101 102 103 104 105 106 107\n",
      " 108 109 110 111 112 113 114 115 116 117 118 119 120 121 122 123 124 125\n",
      " 126 127 128 129 130 131 132 133 134 135 136 137 138 139 140 141 142 143\n",
      " 144 145 146 147 148 149 150 151 152 153 154 155 156 157 158 159 160 161\n",
      " 162 163 164 165 166 167 168 169 170 171 172 173 174 175 176 177 178 179\n",
      " 180 181 182 183 184 185 186 187 188 189 190 191 192 193 194 195 196 197\n",
      " 198 199 200 201 202 203 204 205 206 207 208 209 210 211 212 213 214 215\n",
      " 216 217 218 219 220 221 222 223 224 225 226 227 228 229 230 231 232 233\n",
      " 234 235 236 237 238 239 240 241 242 243 244 245 246 247 248 249 250 251\n",
      " 252 253 254 255 256 257 258 259 260 261 262 263 264 265 266 267 268 269\n",
      " 270 271 272 273 274 275 276 277 278 279 280 281 282 283 284 285 286 287\n",
      " 288 289 290 291 292 293 294 295 296 297 298 299 300 301 302 303 304 305\n",
      " 306 307 308 309 310 311 312 313 314 315 316 317 318 319 320 321 322 323\n",
      " 324 325 326 327 328 329 330 331 332 333 334 335 336 337 338 339 340 341\n",
      " 342 343 344 345 346 347 348 349 350 351 352 353 354 355 356 357 358 359\n",
      " 360 361 362 363 364 365 366 367 368 369 370 371 372 373 374 375 376 377\n",
      " 378 379 380 381 382 383 384 385 386 387 388 389 390 391 392 393 394 395\n",
      " 396 397 398 399 400 401 402 403 404 405 406 407 408 409 410 411 412 413\n",
      " 414 415 416 417 418 419 420 421 422 423 424 425 426 427 428 429 430 431\n",
      " 432 433 434 435 436 437 438 439 440 441 442 443 444 445 446 447 448 449\n",
      " 450 451 452 453 454 455]\n"
     ]
    }
   ],
   "source": [
    "print (len(df_cate['C14_enc'].unique()))\n",
    "print (df_cate['C14_enc'].unique())"
   ]
  },
  {
   "cell_type": "code",
   "execution_count": 68,
   "metadata": {
    "collapsed": false
   },
   "outputs": [
    {
     "name": "stdout",
     "output_type": "stream",
     "text": [
      "{22541, 22552, 22553, 22554, 20508, 22561, 18489, 22587, 22598, 22599, 22607, 20560, 22614, 22624, 22633, 20596, 8330, 18574, 22672, 22676, 22677, 22680, 20633, 20634, 22683, 22681, 20632, 22682, 22684, 22685, 22686, 20635, 18595, 18588, 22700, 22701, 22702, 22703, 22713, 22738, 18648, 6360, 6362, 6361, 6364, 6365, 6366, 16615, 6392, 6393, 20751, 22809, 22810, 22811, 22812, 22813, 22814, 22815, 16685, 16687, 16688, 22832, 375, 377, 380, 22914, 22915, 22916, 22919, 22920, 24096, 24097, 6557, 6558, 6559, 6560, 24099, 6563, 22948, 22949, 18854, 22950, 18856, 22952, 18858, 22954, 22953, 22955, 452, 454, 16838, 456, 16841, 22987, 22988, 22989, 463, 22993, 6616, 16858, 16859, 23012, 20966, 23015, 23016, 20969, 20970, 23018, 20980, 20984, 21674, 21675, 20993, 20995, 20996, 20997, 20998, 20999, 16920, 21681, 21682, 21683, 18987, 21685, 18993, 23091, 23100, 19015, 19016, 4687, 16989, 23137, 23138, 23139, 23141, 23143, 23144, 17014, 17016, 17017, 23160, 23161, 23166, 23168, 23170, 23174, 17037, 21153, 23203, 24153, 23221, 23222, 23224, 17081, 21189, 21191, 19143, 19146, 17109, 21234, 19196, 19197, 17163, 19216, 787, 21273, 21276, 21277, 21278, 19251, 17212, 23368, 23369, 23371, 6990, 6991, 6992, 6993, 17239, 23390, 23394, 23401, 23405, 17262, 17263, 17264, 23411, 23430, 23434, 23438, 23441, 23454, 21412, 21413, 19454, 23551, 23552, 23561, 23562, 23563, 1037, 1038, 1039, 23567, 9236, 9248, 19493, 23625, 23626, 23635, 21589, 21590, 21591, 21592, 21593, 23642, 21594, 21595, 21611, 21612, 21647, 21660, 23709, 17566, 21664, 21665, 21666, 21667, 23721, 23722, 23723, 21676, 23725, 21678, 23726, 23728, 23729, 5296, 5299, 21679, 21677, 23730, 21687, 23735, 23737, 23738, 23739, 21691, 23741, 21694, 21689, 21697, 21706, 17614, 19665, 21715, 19668, 21724, 21725, 21726, 21727, 9438, 21731, 21732, 21739, 21746, 21747, 17653, 17654, 21751, 9461, 23804, 21757, 21758, 21759, 21760, 21761, 21762, 21763, 21764, 17661, 9478, 21767, 21768, 21769, 21770, 21772, 21773, 19733, 21789, 21790, 19743, 21791, 21793, 23847, 21801, 23849, 21803, 23855, 23857, 21816, 23866, 19771, 19772, 21818, 19775, 19776, 21834, 21835, 21836, 21837, 15699, 17747, 15701, 15702, 15703, 15704, 15705, 15706, 15707, 15708, 17753, 21853, 21862, 21863, 21869, 21875, 21877, 21878, 21882, 21883, 21893, 21894, 21912, 21913, 21916, 21917, 19870, 21921, 21922, 21923, 21924, 19878, 23988, 23989, 23990, 23991, 21957, 17863, 17875, 17877, 15840, 24034, 24035, 24036, 17893, 17894, 24040, 24041, 19950, 19951, 17914, 24075, 24084, 24085, 24086, 24092, 24093, 24094, 19998, 24095, 20001, 24098, 20003, 15908, 20005, 20006, 20007, 20008, 20009, 24105, 24107, 24100, 24104, 24106, 20018, 20019, 24132, 22094, 24142, 24143, 24145, 24146, 24148, 24149, 22102, 22103, 22104, 24152, 22106, 22105, 24155, 22107, 24158, 22110, 24160, 22113, 22114, 24161, 22116, 22109, 22118, 20071, 20072, 22120, 22133, 22137, 22140, 20093, 22141, 22142, 16011, 20108, 20122, 20128, 18091, 18092, 18093, 22190, 18094, 18095, 22193, 22196, 20151, 20153, 20170, 22218, 22221, 20173, 22224, 12000, 24289, 22246, 24297, 22254, 22255, 24303, 22257, 22258, 22259, 22260, 22261, 20213, 20215, 20214, 24304, 24314, 22267, 22268, 24308, 24320, 22272, 22288, 22289, 24340, 24343, 20251, 22322, 22324, 20277, 22335, 16208, 20312, 20345, 20346, 20352, 20355, 20359, 16263, 20362, 20363, 20366, 20382, 20384, 20385, 20386, 20387, 20388, 20389, 20391, 20392, 20394, 20395, 14265, 22487, 16350, 16352, 22514, 22516, 20476}\n",
      "500\n",
      "0           15706\n",
      "1           15704\n",
      "2           15704\n",
      "3           15706\n",
      "4           18993\n",
      "5           16920\n",
      "6           20362\n",
      "7           20632\n",
      "8           15707\n",
      "9           21689\n",
      "10          17747\n",
      "11          15701\n",
      "12          20596\n",
      "13          19771\n",
      "14          20984\n",
      "15          15699\n",
      "16          17914\n",
      "17          15708\n",
      "18           6558\n",
      "19          21234\n",
      "20          20352\n",
      "21          15706\n",
      "22          20366\n",
      "23          15701\n",
      "24          15706\n",
      "25          21665\n",
      "26          20984\n",
      "27          21611\n",
      "28          20366\n",
      "29          15706\n",
      "            ...  \n",
      "45006401    19743\n",
      "45006402    23737\n",
      "45006403    20751\n",
      "45006404     rest\n",
      "45006405    23725\n",
      "45006406    22254\n",
      "45006407    22257\n",
      "45006408     6558\n",
      "45006409    22254\n",
      "45006410    22261\n",
      "45006411    22104\n",
      "45006412    20508\n",
      "45006413    21706\n",
      "45006414    22257\n",
      "45006415    23160\n",
      "45006416    17747\n",
      "45006417    24085\n",
      "45006418    18091\n",
      "45006419    22193\n",
      "45006420    20153\n",
      "45006421    17747\n",
      "45006422    20508\n",
      "45006423    24075\n",
      "45006424    22261\n",
      "45006425    21611\n",
      "45006426    17654\n",
      "45006427    22104\n",
      "45006428    17654\n",
      "45006429    23857\n",
      "45006430    22254\n",
      "Length: 45006431, dtype: object\n"
     ]
    }
   ],
   "source": [
    "name = 'C14'\n",
    "dimension = 500\n",
    "target_set = set(df_cate[name].value_counts()[0:dimension].index.tolist())\n",
    "print (target_set)\n",
    "print (len(target_set))\n",
    "new_val = []\n",
    "for val in df_cate[name].values:\n",
    "    if val in target_set:\n",
    "        new_val.append(val)\n",
    "    else:\n",
    "        new_val.append('rest')\n",
    "new_val = pd.Series(new_val)\n",
    "print len((new_val))\n"
   ]
  },
  {
   "cell_type": "code",
   "execution_count": 70,
   "metadata": {
    "collapsed": false
   },
   "outputs": [
    {
     "name": "stdout",
     "output_type": "stream",
     "text": [
      "501\n"
     ]
    }
   ],
   "source": [
    "print (len(new_val.unique()))\n"
   ]
  },
  {
   "cell_type": "code",
   "execution_count": 71,
   "metadata": {
    "collapsed": true
   },
   "outputs": [],
   "source": [
    "df_cate['C14_enc'] = new_val"
   ]
  },
  {
   "cell_type": "code",
   "execution_count": 72,
   "metadata": {
    "collapsed": false
   },
   "outputs": [
    {
     "ename": "MemoryError",
     "evalue": "",
     "output_type": "error",
     "traceback": [
      "\u001b[1;31m---------------------------------------------------------------------------\u001b[0m",
      "\u001b[1;31mMemoryError\u001b[0m                               Traceback (most recent call last)",
      "\u001b[1;32m<ipython-input-72-ce59629ded3e>\u001b[0m in \u001b[0;36m<module>\u001b[1;34m()\u001b[0m\n\u001b[1;32m----> 1\u001b[1;33m \u001b[0mbasicDes\u001b[0m\u001b[1;33m(\u001b[0m\u001b[0mdf_cate\u001b[0m\u001b[1;33m[\u001b[0m\u001b[0mnew_names\u001b[0m\u001b[1;33m]\u001b[0m\u001b[1;33m)\u001b[0m\u001b[1;33m\u001b[0m\u001b[0m\n\u001b[0m",
      "\u001b[1;32mC:\\Users\\suyinw\\Anaconda3\\envs\\python 3.5\\lib\\site-packages\\pandas\\core\\frame.py\u001b[0m in \u001b[0;36m__getitem__\u001b[1;34m(self, key)\u001b[0m\n\u001b[0;32m   1956\u001b[0m         \u001b[1;32mif\u001b[0m \u001b[0misinstance\u001b[0m\u001b[1;33m(\u001b[0m\u001b[0mkey\u001b[0m\u001b[1;33m,\u001b[0m \u001b[1;33m(\u001b[0m\u001b[0mSeries\u001b[0m\u001b[1;33m,\u001b[0m \u001b[0mnp\u001b[0m\u001b[1;33m.\u001b[0m\u001b[0mndarray\u001b[0m\u001b[1;33m,\u001b[0m \u001b[0mIndex\u001b[0m\u001b[1;33m,\u001b[0m \u001b[0mlist\u001b[0m\u001b[1;33m)\u001b[0m\u001b[1;33m)\u001b[0m\u001b[1;33m:\u001b[0m\u001b[1;33m\u001b[0m\u001b[0m\n\u001b[0;32m   1957\u001b[0m             \u001b[1;31m# either boolean or fancy integer index\u001b[0m\u001b[1;33m\u001b[0m\u001b[1;33m\u001b[0m\u001b[0m\n\u001b[1;32m-> 1958\u001b[1;33m             \u001b[1;32mreturn\u001b[0m \u001b[0mself\u001b[0m\u001b[1;33m.\u001b[0m\u001b[0m_getitem_array\u001b[0m\u001b[1;33m(\u001b[0m\u001b[0mkey\u001b[0m\u001b[1;33m)\u001b[0m\u001b[1;33m\u001b[0m\u001b[0m\n\u001b[0m\u001b[0;32m   1959\u001b[0m         \u001b[1;32melif\u001b[0m \u001b[0misinstance\u001b[0m\u001b[1;33m(\u001b[0m\u001b[0mkey\u001b[0m\u001b[1;33m,\u001b[0m \u001b[0mDataFrame\u001b[0m\u001b[1;33m)\u001b[0m\u001b[1;33m:\u001b[0m\u001b[1;33m\u001b[0m\u001b[0m\n\u001b[0;32m   1960\u001b[0m             \u001b[1;32mreturn\u001b[0m \u001b[0mself\u001b[0m\u001b[1;33m.\u001b[0m\u001b[0m_getitem_frame\u001b[0m\u001b[1;33m(\u001b[0m\u001b[0mkey\u001b[0m\u001b[1;33m)\u001b[0m\u001b[1;33m\u001b[0m\u001b[0m\n",
      "\u001b[1;32mC:\\Users\\suyinw\\Anaconda3\\envs\\python 3.5\\lib\\site-packages\\pandas\\core\\frame.py\u001b[0m in \u001b[0;36m_getitem_array\u001b[1;34m(self, key)\u001b[0m\n\u001b[0;32m   2001\u001b[0m         \u001b[1;32melse\u001b[0m\u001b[1;33m:\u001b[0m\u001b[1;33m\u001b[0m\u001b[0m\n\u001b[0;32m   2002\u001b[0m             \u001b[0mindexer\u001b[0m \u001b[1;33m=\u001b[0m \u001b[0mself\u001b[0m\u001b[1;33m.\u001b[0m\u001b[0mloc\u001b[0m\u001b[1;33m.\u001b[0m\u001b[0m_convert_to_indexer\u001b[0m\u001b[1;33m(\u001b[0m\u001b[0mkey\u001b[0m\u001b[1;33m,\u001b[0m \u001b[0maxis\u001b[0m\u001b[1;33m=\u001b[0m\u001b[1;36m1\u001b[0m\u001b[1;33m)\u001b[0m\u001b[1;33m\u001b[0m\u001b[0m\n\u001b[1;32m-> 2003\u001b[1;33m             \u001b[1;32mreturn\u001b[0m \u001b[0mself\u001b[0m\u001b[1;33m.\u001b[0m\u001b[0mtake\u001b[0m\u001b[1;33m(\u001b[0m\u001b[0mindexer\u001b[0m\u001b[1;33m,\u001b[0m \u001b[0maxis\u001b[0m\u001b[1;33m=\u001b[0m\u001b[1;36m1\u001b[0m\u001b[1;33m,\u001b[0m \u001b[0mconvert\u001b[0m\u001b[1;33m=\u001b[0m\u001b[1;32mTrue\u001b[0m\u001b[1;33m)\u001b[0m\u001b[1;33m\u001b[0m\u001b[0m\n\u001b[0m\u001b[0;32m   2004\u001b[0m \u001b[1;33m\u001b[0m\u001b[0m\n\u001b[0;32m   2005\u001b[0m     \u001b[1;32mdef\u001b[0m \u001b[0m_getitem_multilevel\u001b[0m\u001b[1;33m(\u001b[0m\u001b[0mself\u001b[0m\u001b[1;33m,\u001b[0m \u001b[0mkey\u001b[0m\u001b[1;33m)\u001b[0m\u001b[1;33m:\u001b[0m\u001b[1;33m\u001b[0m\u001b[0m\n",
      "\u001b[1;32mC:\\Users\\suyinw\\Anaconda3\\envs\\python 3.5\\lib\\site-packages\\pandas\\core\\generic.py\u001b[0m in \u001b[0;36mtake\u001b[1;34m(self, indices, axis, convert, is_copy, **kwargs)\u001b[0m\n\u001b[0;32m   1923\u001b[0m         \"\"\"\n\u001b[0;32m   1924\u001b[0m         \u001b[0mnv\u001b[0m\u001b[1;33m.\u001b[0m\u001b[0mvalidate_take\u001b[0m\u001b[1;33m(\u001b[0m\u001b[0mtuple\u001b[0m\u001b[1;33m(\u001b[0m\u001b[1;33m)\u001b[0m\u001b[1;33m,\u001b[0m \u001b[0mkwargs\u001b[0m\u001b[1;33m)\u001b[0m\u001b[1;33m\u001b[0m\u001b[0m\n\u001b[1;32m-> 1925\u001b[1;33m         \u001b[0mself\u001b[0m\u001b[1;33m.\u001b[0m\u001b[0m_consolidate_inplace\u001b[0m\u001b[1;33m(\u001b[0m\u001b[1;33m)\u001b[0m\u001b[1;33m\u001b[0m\u001b[0m\n\u001b[0m\u001b[0;32m   1926\u001b[0m         new_data = self._data.take(indices,\n\u001b[0;32m   1927\u001b[0m                                    \u001b[0maxis\u001b[0m\u001b[1;33m=\u001b[0m\u001b[0mself\u001b[0m\u001b[1;33m.\u001b[0m\u001b[0m_get_block_manager_axis\u001b[0m\u001b[1;33m(\u001b[0m\u001b[0maxis\u001b[0m\u001b[1;33m)\u001b[0m\u001b[1;33m,\u001b[0m\u001b[1;33m\u001b[0m\u001b[0m\n",
      "\u001b[1;32mC:\\Users\\suyinw\\Anaconda3\\envs\\python 3.5\\lib\\site-packages\\pandas\\core\\generic.py\u001b[0m in \u001b[0;36m_consolidate_inplace\u001b[1;34m(self)\u001b[0m\n\u001b[0;32m   3136\u001b[0m             \u001b[0mself\u001b[0m\u001b[1;33m.\u001b[0m\u001b[0m_data\u001b[0m \u001b[1;33m=\u001b[0m \u001b[0mself\u001b[0m\u001b[1;33m.\u001b[0m\u001b[0m_data\u001b[0m\u001b[1;33m.\u001b[0m\u001b[0mconsolidate\u001b[0m\u001b[1;33m(\u001b[0m\u001b[1;33m)\u001b[0m\u001b[1;33m\u001b[0m\u001b[0m\n\u001b[0;32m   3137\u001b[0m \u001b[1;33m\u001b[0m\u001b[0m\n\u001b[1;32m-> 3138\u001b[1;33m         \u001b[0mself\u001b[0m\u001b[1;33m.\u001b[0m\u001b[0m_protect_consolidate\u001b[0m\u001b[1;33m(\u001b[0m\u001b[0mf\u001b[0m\u001b[1;33m)\u001b[0m\u001b[1;33m\u001b[0m\u001b[0m\n\u001b[0m\u001b[0;32m   3139\u001b[0m \u001b[1;33m\u001b[0m\u001b[0m\n\u001b[0;32m   3140\u001b[0m     \u001b[1;32mdef\u001b[0m \u001b[0m_consolidate\u001b[0m\u001b[1;33m(\u001b[0m\u001b[0mself\u001b[0m\u001b[1;33m,\u001b[0m \u001b[0minplace\u001b[0m\u001b[1;33m=\u001b[0m\u001b[1;32mFalse\u001b[0m\u001b[1;33m)\u001b[0m\u001b[1;33m:\u001b[0m\u001b[1;33m\u001b[0m\u001b[0m\n",
      "\u001b[1;32mC:\\Users\\suyinw\\Anaconda3\\envs\\python 3.5\\lib\\site-packages\\pandas\\core\\generic.py\u001b[0m in \u001b[0;36m_protect_consolidate\u001b[1;34m(self, f)\u001b[0m\n\u001b[0;32m   3125\u001b[0m         \"\"\"\n\u001b[0;32m   3126\u001b[0m         \u001b[0mblocks_before\u001b[0m \u001b[1;33m=\u001b[0m \u001b[0mlen\u001b[0m\u001b[1;33m(\u001b[0m\u001b[0mself\u001b[0m\u001b[1;33m.\u001b[0m\u001b[0m_data\u001b[0m\u001b[1;33m.\u001b[0m\u001b[0mblocks\u001b[0m\u001b[1;33m)\u001b[0m\u001b[1;33m\u001b[0m\u001b[0m\n\u001b[1;32m-> 3127\u001b[1;33m         \u001b[0mresult\u001b[0m \u001b[1;33m=\u001b[0m \u001b[0mf\u001b[0m\u001b[1;33m(\u001b[0m\u001b[1;33m)\u001b[0m\u001b[1;33m\u001b[0m\u001b[0m\n\u001b[0m\u001b[0;32m   3128\u001b[0m         \u001b[1;32mif\u001b[0m \u001b[0mlen\u001b[0m\u001b[1;33m(\u001b[0m\u001b[0mself\u001b[0m\u001b[1;33m.\u001b[0m\u001b[0m_data\u001b[0m\u001b[1;33m.\u001b[0m\u001b[0mblocks\u001b[0m\u001b[1;33m)\u001b[0m \u001b[1;33m!=\u001b[0m \u001b[0mblocks_before\u001b[0m\u001b[1;33m:\u001b[0m\u001b[1;33m\u001b[0m\u001b[0m\n\u001b[0;32m   3129\u001b[0m             \u001b[0mself\u001b[0m\u001b[1;33m.\u001b[0m\u001b[0m_clear_item_cache\u001b[0m\u001b[1;33m(\u001b[0m\u001b[1;33m)\u001b[0m\u001b[1;33m\u001b[0m\u001b[0m\n",
      "\u001b[1;32mC:\\Users\\suyinw\\Anaconda3\\envs\\python 3.5\\lib\\site-packages\\pandas\\core\\generic.py\u001b[0m in \u001b[0;36mf\u001b[1;34m()\u001b[0m\n\u001b[0;32m   3134\u001b[0m \u001b[1;33m\u001b[0m\u001b[0m\n\u001b[0;32m   3135\u001b[0m         \u001b[1;32mdef\u001b[0m \u001b[0mf\u001b[0m\u001b[1;33m(\u001b[0m\u001b[1;33m)\u001b[0m\u001b[1;33m:\u001b[0m\u001b[1;33m\u001b[0m\u001b[0m\n\u001b[1;32m-> 3136\u001b[1;33m             \u001b[0mself\u001b[0m\u001b[1;33m.\u001b[0m\u001b[0m_data\u001b[0m \u001b[1;33m=\u001b[0m \u001b[0mself\u001b[0m\u001b[1;33m.\u001b[0m\u001b[0m_data\u001b[0m\u001b[1;33m.\u001b[0m\u001b[0mconsolidate\u001b[0m\u001b[1;33m(\u001b[0m\u001b[1;33m)\u001b[0m\u001b[1;33m\u001b[0m\u001b[0m\n\u001b[0m\u001b[0;32m   3137\u001b[0m \u001b[1;33m\u001b[0m\u001b[0m\n\u001b[0;32m   3138\u001b[0m         \u001b[0mself\u001b[0m\u001b[1;33m.\u001b[0m\u001b[0m_protect_consolidate\u001b[0m\u001b[1;33m(\u001b[0m\u001b[0mf\u001b[0m\u001b[1;33m)\u001b[0m\u001b[1;33m\u001b[0m\u001b[0m\n",
      "\u001b[1;32mC:\\Users\\suyinw\\Anaconda3\\envs\\python 3.5\\lib\\site-packages\\pandas\\core\\internals.py\u001b[0m in \u001b[0;36mconsolidate\u001b[1;34m(self)\u001b[0m\n\u001b[0;32m   3571\u001b[0m         \u001b[0mbm\u001b[0m \u001b[1;33m=\u001b[0m \u001b[0mself\u001b[0m\u001b[1;33m.\u001b[0m\u001b[0m__class__\u001b[0m\u001b[1;33m(\u001b[0m\u001b[0mself\u001b[0m\u001b[1;33m.\u001b[0m\u001b[0mblocks\u001b[0m\u001b[1;33m,\u001b[0m \u001b[0mself\u001b[0m\u001b[1;33m.\u001b[0m\u001b[0maxes\u001b[0m\u001b[1;33m)\u001b[0m\u001b[1;33m\u001b[0m\u001b[0m\n\u001b[0;32m   3572\u001b[0m         \u001b[0mbm\u001b[0m\u001b[1;33m.\u001b[0m\u001b[0m_is_consolidated\u001b[0m \u001b[1;33m=\u001b[0m \u001b[1;32mFalse\u001b[0m\u001b[1;33m\u001b[0m\u001b[0m\n\u001b[1;32m-> 3573\u001b[1;33m         \u001b[0mbm\u001b[0m\u001b[1;33m.\u001b[0m\u001b[0m_consolidate_inplace\u001b[0m\u001b[1;33m(\u001b[0m\u001b[1;33m)\u001b[0m\u001b[1;33m\u001b[0m\u001b[0m\n\u001b[0m\u001b[0;32m   3574\u001b[0m         \u001b[1;32mreturn\u001b[0m \u001b[0mbm\u001b[0m\u001b[1;33m\u001b[0m\u001b[0m\n\u001b[0;32m   3575\u001b[0m \u001b[1;33m\u001b[0m\u001b[0m\n",
      "\u001b[1;32mC:\\Users\\suyinw\\Anaconda3\\envs\\python 3.5\\lib\\site-packages\\pandas\\core\\internals.py\u001b[0m in \u001b[0;36m_consolidate_inplace\u001b[1;34m(self)\u001b[0m\n\u001b[0;32m   3576\u001b[0m     \u001b[1;32mdef\u001b[0m \u001b[0m_consolidate_inplace\u001b[0m\u001b[1;33m(\u001b[0m\u001b[0mself\u001b[0m\u001b[1;33m)\u001b[0m\u001b[1;33m:\u001b[0m\u001b[1;33m\u001b[0m\u001b[0m\n\u001b[0;32m   3577\u001b[0m         \u001b[1;32mif\u001b[0m \u001b[1;32mnot\u001b[0m \u001b[0mself\u001b[0m\u001b[1;33m.\u001b[0m\u001b[0mis_consolidated\u001b[0m\u001b[1;33m(\u001b[0m\u001b[1;33m)\u001b[0m\u001b[1;33m:\u001b[0m\u001b[1;33m\u001b[0m\u001b[0m\n\u001b[1;32m-> 3578\u001b[1;33m             \u001b[0mself\u001b[0m\u001b[1;33m.\u001b[0m\u001b[0mblocks\u001b[0m \u001b[1;33m=\u001b[0m \u001b[0mtuple\u001b[0m\u001b[1;33m(\u001b[0m\u001b[0m_consolidate\u001b[0m\u001b[1;33m(\u001b[0m\u001b[0mself\u001b[0m\u001b[1;33m.\u001b[0m\u001b[0mblocks\u001b[0m\u001b[1;33m)\u001b[0m\u001b[1;33m)\u001b[0m\u001b[1;33m\u001b[0m\u001b[0m\n\u001b[0m\u001b[0;32m   3579\u001b[0m             \u001b[0mself\u001b[0m\u001b[1;33m.\u001b[0m\u001b[0m_is_consolidated\u001b[0m \u001b[1;33m=\u001b[0m \u001b[1;32mTrue\u001b[0m\u001b[1;33m\u001b[0m\u001b[0m\n\u001b[0;32m   3580\u001b[0m             \u001b[0mself\u001b[0m\u001b[1;33m.\u001b[0m\u001b[0m_known_consolidated\u001b[0m \u001b[1;33m=\u001b[0m \u001b[1;32mTrue\u001b[0m\u001b[1;33m\u001b[0m\u001b[0m\n",
      "\u001b[1;32mC:\\Users\\suyinw\\Anaconda3\\envs\\python 3.5\\lib\\site-packages\\pandas\\core\\internals.py\u001b[0m in \u001b[0;36m_consolidate\u001b[1;34m(blocks)\u001b[0m\n\u001b[0;32m   4523\u001b[0m     \u001b[1;32mfor\u001b[0m \u001b[1;33m(\u001b[0m\u001b[0m_can_consolidate\u001b[0m\u001b[1;33m,\u001b[0m \u001b[0mdtype\u001b[0m\u001b[1;33m)\u001b[0m\u001b[1;33m,\u001b[0m \u001b[0mgroup_blocks\u001b[0m \u001b[1;32min\u001b[0m \u001b[0mgrouper\u001b[0m\u001b[1;33m:\u001b[0m\u001b[1;33m\u001b[0m\u001b[0m\n\u001b[0;32m   4524\u001b[0m         merged_blocks = _merge_blocks(list(group_blocks), dtype=dtype,\n\u001b[1;32m-> 4525\u001b[1;33m                                       _can_consolidate=_can_consolidate)\n\u001b[0m\u001b[0;32m   4526\u001b[0m         \u001b[0mnew_blocks\u001b[0m \u001b[1;33m=\u001b[0m \u001b[0m_extend_blocks\u001b[0m\u001b[1;33m(\u001b[0m\u001b[0mmerged_blocks\u001b[0m\u001b[1;33m,\u001b[0m \u001b[0mnew_blocks\u001b[0m\u001b[1;33m)\u001b[0m\u001b[1;33m\u001b[0m\u001b[0m\n\u001b[0;32m   4527\u001b[0m     \u001b[1;32mreturn\u001b[0m \u001b[0mnew_blocks\u001b[0m\u001b[1;33m\u001b[0m\u001b[0m\n",
      "\u001b[1;32mC:\\Users\\suyinw\\Anaconda3\\envs\\python 3.5\\lib\\site-packages\\pandas\\core\\internals.py\u001b[0m in \u001b[0;36m_merge_blocks\u001b[1;34m(blocks, dtype, _can_consolidate)\u001b[0m\n\u001b[0;32m   4546\u001b[0m \u001b[1;33m\u001b[0m\u001b[0m\n\u001b[0;32m   4547\u001b[0m         \u001b[0margsort\u001b[0m \u001b[1;33m=\u001b[0m \u001b[0mnp\u001b[0m\u001b[1;33m.\u001b[0m\u001b[0margsort\u001b[0m\u001b[1;33m(\u001b[0m\u001b[0mnew_mgr_locs\u001b[0m\u001b[1;33m)\u001b[0m\u001b[1;33m\u001b[0m\u001b[0m\n\u001b[1;32m-> 4548\u001b[1;33m         \u001b[0mnew_values\u001b[0m \u001b[1;33m=\u001b[0m \u001b[0mnew_values\u001b[0m\u001b[1;33m[\u001b[0m\u001b[0margsort\u001b[0m\u001b[1;33m]\u001b[0m\u001b[1;33m\u001b[0m\u001b[0m\n\u001b[0m\u001b[0;32m   4549\u001b[0m         \u001b[0mnew_mgr_locs\u001b[0m \u001b[1;33m=\u001b[0m \u001b[0mnew_mgr_locs\u001b[0m\u001b[1;33m[\u001b[0m\u001b[0margsort\u001b[0m\u001b[1;33m]\u001b[0m\u001b[1;33m\u001b[0m\u001b[0m\n\u001b[0;32m   4550\u001b[0m \u001b[1;33m\u001b[0m\u001b[0m\n",
      "\u001b[1;31mMemoryError\u001b[0m: "
     ]
    }
   ],
   "source": [
    "basicDes(df_cate[new_names])"
   ]
  },
  {
   "cell_type": "code",
   "execution_count": null,
   "metadata": {
    "collapsed": true
   },
   "outputs": [],
   "source": []
  }
 ],
 "metadata": {
  "anaconda-cloud": {},
  "kernelspec": {
   "display_name": "Python 2",
   "language": "python",
   "name": "python2"
  },
  "language_info": {
   "codemirror_mode": {
    "name": "ipython",
    "version": 2
   },
   "file_extension": ".py",
   "mimetype": "text/x-python",
   "name": "python",
   "nbconvert_exporter": "python",
   "pygments_lexer": "ipython2",
   "version": "2.7.11"
  }
 },
 "nbformat": 4,
 "nbformat_minor": 1
}
